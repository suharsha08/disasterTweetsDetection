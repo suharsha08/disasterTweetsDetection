{
  "cells": [
    {
      "cell_type": "markdown",
      "source": [
        "# Installing the necessary Libraries"
      ],
      "metadata": {
        "id": "CcWyAr_r4aIo"
      }
    },
    {
      "cell_type": "code",
      "execution_count": 1,
      "metadata": {
        "id": "AmGaG6suq50T",
        "colab": {
          "base_uri": "https://localhost:8080/"
        },
        "outputId": "1135ad9d-e672-44ef-955c-be42c6704971"
      },
      "outputs": [
        {
          "output_type": "stream",
          "name": "stdout",
          "text": [
            "Collecting streamlit\n",
            "  Downloading streamlit-1.44.1-py3-none-any.whl.metadata (8.9 kB)\n",
            "Collecting pyngrok\n",
            "  Downloading pyngrok-7.2.5-py3-none-any.whl.metadata (8.9 kB)\n",
            "Requirement already satisfied: altair<6,>=4.0 in /usr/local/lib/python3.11/dist-packages (from streamlit) (5.5.0)\n",
            "Requirement already satisfied: blinker<2,>=1.0.0 in /usr/local/lib/python3.11/dist-packages (from streamlit) (1.9.0)\n",
            "Requirement already satisfied: cachetools<6,>=4.0 in /usr/local/lib/python3.11/dist-packages (from streamlit) (5.5.2)\n",
            "Requirement already satisfied: click<9,>=7.0 in /usr/local/lib/python3.11/dist-packages (from streamlit) (8.1.8)\n",
            "Requirement already satisfied: numpy<3,>=1.23 in /usr/local/lib/python3.11/dist-packages (from streamlit) (2.0.2)\n",
            "Requirement already satisfied: packaging<25,>=20 in /usr/local/lib/python3.11/dist-packages (from streamlit) (24.2)\n",
            "Requirement already satisfied: pandas<3,>=1.4.0 in /usr/local/lib/python3.11/dist-packages (from streamlit) (2.2.2)\n",
            "Requirement already satisfied: pillow<12,>=7.1.0 in /usr/local/lib/python3.11/dist-packages (from streamlit) (11.1.0)\n",
            "Requirement already satisfied: protobuf<6,>=3.20 in /usr/local/lib/python3.11/dist-packages (from streamlit) (5.29.4)\n",
            "Requirement already satisfied: pyarrow>=7.0 in /usr/local/lib/python3.11/dist-packages (from streamlit) (18.1.0)\n",
            "Requirement already satisfied: requests<3,>=2.27 in /usr/local/lib/python3.11/dist-packages (from streamlit) (2.32.3)\n",
            "Requirement already satisfied: tenacity<10,>=8.1.0 in /usr/local/lib/python3.11/dist-packages (from streamlit) (9.1.2)\n",
            "Requirement already satisfied: toml<2,>=0.10.1 in /usr/local/lib/python3.11/dist-packages (from streamlit) (0.10.2)\n",
            "Requirement already satisfied: typing-extensions<5,>=4.4.0 in /usr/local/lib/python3.11/dist-packages (from streamlit) (4.13.2)\n",
            "Collecting watchdog<7,>=2.1.5 (from streamlit)\n",
            "  Downloading watchdog-6.0.0-py3-none-manylinux2014_x86_64.whl.metadata (44 kB)\n",
            "\u001b[2K     \u001b[90m━━━━━━━━━━━━━━━━━━━━━━━━━━━━━━━━━━━━━━━━\u001b[0m \u001b[32m44.3/44.3 kB\u001b[0m \u001b[31m4.0 MB/s\u001b[0m eta \u001b[36m0:00:00\u001b[0m\n",
            "\u001b[?25hRequirement already satisfied: gitpython!=3.1.19,<4,>=3.0.7 in /usr/local/lib/python3.11/dist-packages (from streamlit) (3.1.44)\n",
            "Collecting pydeck<1,>=0.8.0b4 (from streamlit)\n",
            "  Downloading pydeck-0.9.1-py2.py3-none-any.whl.metadata (4.1 kB)\n",
            "Requirement already satisfied: tornado<7,>=6.0.3 in /usr/local/lib/python3.11/dist-packages (from streamlit) (6.4.2)\n",
            "Requirement already satisfied: PyYAML>=5.1 in /usr/local/lib/python3.11/dist-packages (from pyngrok) (6.0.2)\n",
            "Requirement already satisfied: jinja2 in /usr/local/lib/python3.11/dist-packages (from altair<6,>=4.0->streamlit) (3.1.6)\n",
            "Requirement already satisfied: jsonschema>=3.0 in /usr/local/lib/python3.11/dist-packages (from altair<6,>=4.0->streamlit) (4.23.0)\n",
            "Requirement already satisfied: narwhals>=1.14.2 in /usr/local/lib/python3.11/dist-packages (from altair<6,>=4.0->streamlit) (1.35.0)\n",
            "Requirement already satisfied: gitdb<5,>=4.0.1 in /usr/local/lib/python3.11/dist-packages (from gitpython!=3.1.19,<4,>=3.0.7->streamlit) (4.0.12)\n",
            "Requirement already satisfied: python-dateutil>=2.8.2 in /usr/local/lib/python3.11/dist-packages (from pandas<3,>=1.4.0->streamlit) (2.8.2)\n",
            "Requirement already satisfied: pytz>=2020.1 in /usr/local/lib/python3.11/dist-packages (from pandas<3,>=1.4.0->streamlit) (2025.2)\n",
            "Requirement already satisfied: tzdata>=2022.7 in /usr/local/lib/python3.11/dist-packages (from pandas<3,>=1.4.0->streamlit) (2025.2)\n",
            "Requirement already satisfied: charset-normalizer<4,>=2 in /usr/local/lib/python3.11/dist-packages (from requests<3,>=2.27->streamlit) (3.4.1)\n",
            "Requirement already satisfied: idna<4,>=2.5 in /usr/local/lib/python3.11/dist-packages (from requests<3,>=2.27->streamlit) (3.10)\n",
            "Requirement already satisfied: urllib3<3,>=1.21.1 in /usr/local/lib/python3.11/dist-packages (from requests<3,>=2.27->streamlit) (2.3.0)\n",
            "Requirement already satisfied: certifi>=2017.4.17 in /usr/local/lib/python3.11/dist-packages (from requests<3,>=2.27->streamlit) (2025.1.31)\n",
            "Requirement already satisfied: smmap<6,>=3.0.1 in /usr/local/lib/python3.11/dist-packages (from gitdb<5,>=4.0.1->gitpython!=3.1.19,<4,>=3.0.7->streamlit) (5.0.2)\n",
            "Requirement already satisfied: MarkupSafe>=2.0 in /usr/local/lib/python3.11/dist-packages (from jinja2->altair<6,>=4.0->streamlit) (3.0.2)\n",
            "Requirement already satisfied: attrs>=22.2.0 in /usr/local/lib/python3.11/dist-packages (from jsonschema>=3.0->altair<6,>=4.0->streamlit) (25.3.0)\n",
            "Requirement already satisfied: jsonschema-specifications>=2023.03.6 in /usr/local/lib/python3.11/dist-packages (from jsonschema>=3.0->altair<6,>=4.0->streamlit) (2024.10.1)\n",
            "Requirement already satisfied: referencing>=0.28.4 in /usr/local/lib/python3.11/dist-packages (from jsonschema>=3.0->altair<6,>=4.0->streamlit) (0.36.2)\n",
            "Requirement already satisfied: rpds-py>=0.7.1 in /usr/local/lib/python3.11/dist-packages (from jsonschema>=3.0->altair<6,>=4.0->streamlit) (0.24.0)\n",
            "Requirement already satisfied: six>=1.5 in /usr/local/lib/python3.11/dist-packages (from python-dateutil>=2.8.2->pandas<3,>=1.4.0->streamlit) (1.17.0)\n",
            "Downloading streamlit-1.44.1-py3-none-any.whl (9.8 MB)\n",
            "\u001b[2K   \u001b[90m━━━━━━━━━━━━━━━━━━━━━━━━━━━━━━━━━━━━━━━━\u001b[0m \u001b[32m9.8/9.8 MB\u001b[0m \u001b[31m109.9 MB/s\u001b[0m eta \u001b[36m0:00:00\u001b[0m\n",
            "\u001b[?25hDownloading pyngrok-7.2.5-py3-none-any.whl (23 kB)\n",
            "Downloading pydeck-0.9.1-py2.py3-none-any.whl (6.9 MB)\n",
            "\u001b[2K   \u001b[90m━━━━━━━━━━━━━━━━━━━━━━━━━━━━━━━━━━━━━━━━\u001b[0m \u001b[32m6.9/6.9 MB\u001b[0m \u001b[31m132.1 MB/s\u001b[0m eta \u001b[36m0:00:00\u001b[0m\n",
            "\u001b[?25hDownloading watchdog-6.0.0-py3-none-manylinux2014_x86_64.whl (79 kB)\n",
            "\u001b[2K   \u001b[90m━━━━━━━━━━━━━━━━━━━━━━━━━━━━━━━━━━━━━━━━\u001b[0m \u001b[32m79.1/79.1 kB\u001b[0m \u001b[31m7.1 MB/s\u001b[0m eta \u001b[36m0:00:00\u001b[0m\n",
            "\u001b[?25hInstalling collected packages: watchdog, pyngrok, pydeck, streamlit\n",
            "Successfully installed pydeck-0.9.1 pyngrok-7.2.5 streamlit-1.44.1 watchdog-6.0.0\n"
          ]
        }
      ],
      "source": [
        "!pip install streamlit pyngrok"
      ]
    },
    {
      "cell_type": "code",
      "execution_count": 2,
      "metadata": {
        "id": "29dA_nh9rgCX",
        "colab": {
          "base_uri": "https://localhost:8080/"
        },
        "outputId": "34a16995-8c9d-42d4-f440-43fd31dd5789"
      },
      "outputs": [
        {
          "output_type": "stream",
          "name": "stdout",
          "text": [
            "Requirement already satisfied: streamlit in /usr/local/lib/python3.11/dist-packages (1.44.1)\n",
            "Requirement already satisfied: altair<6,>=4.0 in /usr/local/lib/python3.11/dist-packages (from streamlit) (5.5.0)\n",
            "Requirement already satisfied: blinker<2,>=1.0.0 in /usr/local/lib/python3.11/dist-packages (from streamlit) (1.9.0)\n",
            "Requirement already satisfied: cachetools<6,>=4.0 in /usr/local/lib/python3.11/dist-packages (from streamlit) (5.5.2)\n",
            "Requirement already satisfied: click<9,>=7.0 in /usr/local/lib/python3.11/dist-packages (from streamlit) (8.1.8)\n",
            "Requirement already satisfied: numpy<3,>=1.23 in /usr/local/lib/python3.11/dist-packages (from streamlit) (2.0.2)\n",
            "Requirement already satisfied: packaging<25,>=20 in /usr/local/lib/python3.11/dist-packages (from streamlit) (24.2)\n",
            "Requirement already satisfied: pandas<3,>=1.4.0 in /usr/local/lib/python3.11/dist-packages (from streamlit) (2.2.2)\n",
            "Requirement already satisfied: pillow<12,>=7.1.0 in /usr/local/lib/python3.11/dist-packages (from streamlit) (11.1.0)\n",
            "Requirement already satisfied: protobuf<6,>=3.20 in /usr/local/lib/python3.11/dist-packages (from streamlit) (5.29.4)\n",
            "Requirement already satisfied: pyarrow>=7.0 in /usr/local/lib/python3.11/dist-packages (from streamlit) (18.1.0)\n",
            "Requirement already satisfied: requests<3,>=2.27 in /usr/local/lib/python3.11/dist-packages (from streamlit) (2.32.3)\n",
            "Requirement already satisfied: tenacity<10,>=8.1.0 in /usr/local/lib/python3.11/dist-packages (from streamlit) (9.1.2)\n",
            "Requirement already satisfied: toml<2,>=0.10.1 in /usr/local/lib/python3.11/dist-packages (from streamlit) (0.10.2)\n",
            "Requirement already satisfied: typing-extensions<5,>=4.4.0 in /usr/local/lib/python3.11/dist-packages (from streamlit) (4.13.2)\n",
            "Requirement already satisfied: watchdog<7,>=2.1.5 in /usr/local/lib/python3.11/dist-packages (from streamlit) (6.0.0)\n",
            "Requirement already satisfied: gitpython!=3.1.19,<4,>=3.0.7 in /usr/local/lib/python3.11/dist-packages (from streamlit) (3.1.44)\n",
            "Requirement already satisfied: pydeck<1,>=0.8.0b4 in /usr/local/lib/python3.11/dist-packages (from streamlit) (0.9.1)\n",
            "Requirement already satisfied: tornado<7,>=6.0.3 in /usr/local/lib/python3.11/dist-packages (from streamlit) (6.4.2)\n",
            "Requirement already satisfied: jinja2 in /usr/local/lib/python3.11/dist-packages (from altair<6,>=4.0->streamlit) (3.1.6)\n",
            "Requirement already satisfied: jsonschema>=3.0 in /usr/local/lib/python3.11/dist-packages (from altair<6,>=4.0->streamlit) (4.23.0)\n",
            "Requirement already satisfied: narwhals>=1.14.2 in /usr/local/lib/python3.11/dist-packages (from altair<6,>=4.0->streamlit) (1.35.0)\n",
            "Requirement already satisfied: gitdb<5,>=4.0.1 in /usr/local/lib/python3.11/dist-packages (from gitpython!=3.1.19,<4,>=3.0.7->streamlit) (4.0.12)\n",
            "Requirement already satisfied: python-dateutil>=2.8.2 in /usr/local/lib/python3.11/dist-packages (from pandas<3,>=1.4.0->streamlit) (2.8.2)\n",
            "Requirement already satisfied: pytz>=2020.1 in /usr/local/lib/python3.11/dist-packages (from pandas<3,>=1.4.0->streamlit) (2025.2)\n",
            "Requirement already satisfied: tzdata>=2022.7 in /usr/local/lib/python3.11/dist-packages (from pandas<3,>=1.4.0->streamlit) (2025.2)\n",
            "Requirement already satisfied: charset-normalizer<4,>=2 in /usr/local/lib/python3.11/dist-packages (from requests<3,>=2.27->streamlit) (3.4.1)\n",
            "Requirement already satisfied: idna<4,>=2.5 in /usr/local/lib/python3.11/dist-packages (from requests<3,>=2.27->streamlit) (3.10)\n",
            "Requirement already satisfied: urllib3<3,>=1.21.1 in /usr/local/lib/python3.11/dist-packages (from requests<3,>=2.27->streamlit) (2.3.0)\n",
            "Requirement already satisfied: certifi>=2017.4.17 in /usr/local/lib/python3.11/dist-packages (from requests<3,>=2.27->streamlit) (2025.1.31)\n",
            "Requirement already satisfied: smmap<6,>=3.0.1 in /usr/local/lib/python3.11/dist-packages (from gitdb<5,>=4.0.1->gitpython!=3.1.19,<4,>=3.0.7->streamlit) (5.0.2)\n",
            "Requirement already satisfied: MarkupSafe>=2.0 in /usr/local/lib/python3.11/dist-packages (from jinja2->altair<6,>=4.0->streamlit) (3.0.2)\n",
            "Requirement already satisfied: attrs>=22.2.0 in /usr/local/lib/python3.11/dist-packages (from jsonschema>=3.0->altair<6,>=4.0->streamlit) (25.3.0)\n",
            "Requirement already satisfied: jsonschema-specifications>=2023.03.6 in /usr/local/lib/python3.11/dist-packages (from jsonschema>=3.0->altair<6,>=4.0->streamlit) (2024.10.1)\n",
            "Requirement already satisfied: referencing>=0.28.4 in /usr/local/lib/python3.11/dist-packages (from jsonschema>=3.0->altair<6,>=4.0->streamlit) (0.36.2)\n",
            "Requirement already satisfied: rpds-py>=0.7.1 in /usr/local/lib/python3.11/dist-packages (from jsonschema>=3.0->altair<6,>=4.0->streamlit) (0.24.0)\n",
            "Requirement already satisfied: six>=1.5 in /usr/local/lib/python3.11/dist-packages (from python-dateutil>=2.8.2->pandas<3,>=1.4.0->streamlit) (1.17.0)\n"
          ]
        }
      ],
      "source": [
        "!pip install streamlit"
      ]
    },
    {
      "cell_type": "markdown",
      "source": [
        "# Libraries Imported and loading dataset into Dataframe"
      ],
      "metadata": {
        "id": "m3CSS_yg4s2_"
      }
    },
    {
      "cell_type": "code",
      "execution_count": 3,
      "metadata": {
        "colab": {
          "base_uri": "https://localhost:8080/"
        },
        "id": "UI7Xiljtrjy0",
        "outputId": "fdd2ad41-a9e4-4f9c-e3c6-458153dbf955"
      },
      "outputs": [
        {
          "output_type": "execute_result",
          "data": {
            "text/plain": [
              "<torch._C.Generator at 0x7de18345a9b0>"
            ]
          },
          "metadata": {},
          "execution_count": 3
        }
      ],
      "source": [
        "# Import necessary libraries\n",
        "import numpy as np\n",
        "import pandas as pd\n",
        "import matplotlib.pyplot as plt\n",
        "pd.set_option('display.max_colwidth', None)\n",
        "import os\n",
        "import re\n",
        "import torch\n",
        "import torch.nn as nn\n",
        "import torch.nn.functional as F  # Import F for activation functions\n",
        "from torch.utils.data import TensorDataset, DataLoader\n",
        "from sklearn.model_selection import train_test_split\n",
        "from sklearn.metrics import (accuracy_score, precision_score, recall_score,\n",
        "                             f1_score, confusion_matrix, roc_curve, roc_auc_score,\n",
        "                             precision_recall_curve, average_precision_score,\n",
        "                             classification_report)\n",
        "import seaborn as sns\n",
        "import pickle\n",
        "import warnings\n",
        "warnings.filterwarnings(\"ignore\")\n",
        "\n",
        "# Set random seeds for reproducibility\n",
        "np.random.seed(1)\n",
        "torch.manual_seed(1)\n"
      ]
    },
    {
      "cell_type": "code",
      "execution_count": 4,
      "metadata": {
        "id": "2-v0_Xqes02u"
      },
      "outputs": [],
      "source": [
        "# Load data\n",
        "train = pd.read_csv('train.csv')\n",
        "test = pd.read_csv('test.csv')\n",
        "\n",
        "# Shuffle data\n",
        "train = train.sample(frac=1, random_state=1).reset_index(drop=True)\n",
        "test = test.sample(frac=1, random_state=1).reset_index(drop=True)\n",
        "\n",
        "# Drop unnecessary columns\n",
        "train.drop(['keyword', 'location'], axis=1, inplace=True)\n",
        "test.drop(['keyword', 'location'], axis=1, inplace=True)\n"
      ]
    },
    {
      "cell_type": "markdown",
      "source": [
        "Loaded the datasets into dataframes and dropped unnecessary columns from the dataset."
      ],
      "metadata": {
        "id": "ENwLCYLh5GvR"
      }
    },
    {
      "cell_type": "markdown",
      "source": [
        "# Preprocessing"
      ],
      "metadata": {
        "id": "rsQOdHkP5Bue"
      }
    },
    {
      "cell_type": "code",
      "execution_count": 5,
      "metadata": {
        "id": "XflpUSUGs3-S"
      },
      "outputs": [],
      "source": [
        "# Clean text function\n",
        "def clean_text(text):\n",
        "    # Remove unknown characters (emojis, etc.)\n",
        "    emoji_pattern = re.compile(\"[\"\n",
        "                               u\"\\U0001F600-\\U0001F64F\"  # emoticons\n",
        "                               u\"\\U0001F300-\\U0001F5FF\"  # symbols & pictographs\n",
        "                               u\"\\U0001F680-\\U0001F6FF\"  # transport & map symbols\n",
        "                               u\"\\U0001F1E0-\\U0001F1FF\"  # flags\n",
        "                               u\"\\U00002702-\\U000027B0\"\n",
        "                               u\"\\U000024C2-\\U0001F251\"\n",
        "                               \"]+\", flags=re.UNICODE)\n",
        "    text = emoji_pattern.sub(r'', text)\n",
        "\n",
        "    # Remove URLs\n",
        "    url = re.compile(r'https?://\\S+|www\\.\\S+')\n",
        "    text = url.sub(r'', text)\n",
        "\n",
        "    # Remove hashtags and mentions\n",
        "    text = text.replace('#', ' ')\n",
        "    text = text.replace('@', ' ')\n",
        "\n",
        "    # Remove special characters\n",
        "    symbols = re.compile(r'[^A-Za-z0-9 ]')\n",
        "    text = symbols.sub(r'', text)\n",
        "\n",
        "    # Convert to lowercase\n",
        "    text = text.lower()\n",
        "\n",
        "    return text\n",
        "\n",
        "# Apply text cleaning\n",
        "train['text'] = train['text'].apply(lambda x: clean_text(x))\n",
        "test['text'] = test['text'].apply(lambda x: clean_text(x))\n"
      ]
    },
    {
      "cell_type": "markdown",
      "source": [
        "Here we are cleaning the dataset, removing unnecessary emojis, symbols, flags. Then links, hashtags, @ etc are removed as well. Then converted the text to lowercase. Then applied the clean data to the dataframes."
      ],
      "metadata": {
        "id": "c1SJGee95VIy"
      }
    },
    {
      "cell_type": "code",
      "execution_count": 6,
      "metadata": {
        "colab": {
          "base_uri": "https://localhost:8080/"
        },
        "id": "U9kfcgx_s6da",
        "outputId": "ae569f78-76e3-4cf5-f84f-32c9f18a5d6c"
      },
      "outputs": [
        {
          "output_type": "stream",
          "name": "stdout",
          "text": [
            "Found 127764 word vectors.\n"
          ]
        }
      ],
      "source": [
        "# Load GloVe embeddings\n",
        "embeddings_index = {}\n",
        "with open('glove.6B.50d.txt', 'r', encoding='utf8') as f:\n",
        "    for line in f:\n",
        "        values = line.strip().split()\n",
        "        word = values[0]\n",
        "        coefs = np.array(values[1:], dtype='float32')\n",
        "        embeddings_index[word] = coefs\n",
        "print(f'Found {len(embeddings_index)} word vectors.')\n"
      ]
    },
    {
      "cell_type": "markdown",
      "source": [
        "GloVe embeddings are words and their embeddings which represent the vectors of numbers which has meaning of that particular word in that embeddings. This are extracted from glove.6B.50d.txt file and kept in embeddings_indexas key as word and value as their vector embeddings."
      ],
      "metadata": {
        "id": "YvK-bY695wTA"
      }
    },
    {
      "cell_type": "code",
      "execution_count": 7,
      "metadata": {
        "id": "AbgVn-yAvHnU"
      },
      "outputs": [],
      "source": [
        "# Prepare embeddings and word indices\n",
        "word2idx = {}\n",
        "new_embedding_index = {}\n",
        "\n",
        "# Build vocabulary and embedding matrix\n",
        "index = 1  # Start indexing from 1\n",
        "for dataset in [train, test]:\n",
        "    for x in dataset['text']:\n",
        "        words = x.split()\n",
        "        for word in words:\n",
        "            if word not in word2idx:\n",
        "                word2idx[word] = index\n",
        "                if word in embeddings_index:\n",
        "                    new_embedding_index[index] = embeddings_index[word]\n",
        "                else:\n",
        "                    new_embedding_index[index] = np.random.normal(scale=0.6, size=(50,)).astype(np.float32)\n",
        "                index += 1\n",
        "\n",
        "# Add zero vector for padding index\n",
        "new_embedding_index[0] = np.zeros(50, dtype=np.float32)\n"
      ]
    },
    {
      "cell_type": "markdown",
      "source": [
        "Then the datasets are read and each word which is unique is added to a new dictionary with their vectors if in the glovefile or else some randome vector is added. So we now have all words as numbers with their vectors. Words are changed to numbers as numbers are only recognized by the model."
      ],
      "metadata": {
        "id": "GPNHYrKs6Lmh"
      }
    },
    {
      "cell_type": "code",
      "execution_count": 8,
      "metadata": {
        "id": "LOldWF7OvK8_"
      },
      "outputs": [],
      "source": [
        "# Save word2idx for later use\n",
        "with open('word2idx.pkl', 'wb') as f:\n",
        "    pickle.dump(word2idx, f)\n"
      ]
    },
    {
      "cell_type": "markdown",
      "source": [
        "These list of words are saved in pickle file which we can easily get whenever we want to."
      ],
      "metadata": {
        "id": "g5F_LaHI6xQR"
      }
    },
    {
      "cell_type": "markdown",
      "source": [
        "# Convert tweets to list of Numbers"
      ],
      "metadata": {
        "id": "uOef8f3U67rY"
      }
    },
    {
      "cell_type": "code",
      "execution_count": 9,
      "metadata": {
        "id": "RJVy9RNxvMwG"
      },
      "outputs": [],
      "source": [
        "# Convert text to index sequences\n",
        "def text_to_sequence(text_list, word2idx):\n",
        "    sequences = []\n",
        "    for text in text_list:\n",
        "        words = text.split()\n",
        "        seq = [word2idx.get(word, 0) for word in words]\n",
        "        sequences.append(seq)\n",
        "    return sequences\n",
        "\n",
        "train_sequences = text_to_sequence(train['text'], word2idx)\n",
        "test_sequences = text_to_sequence(test['text'], word2idx)\n"
      ]
    },
    {
      "cell_type": "markdown",
      "source": [
        "Here each tweet is obtained and converted to numbers based on the number which is index given to each word."
      ],
      "metadata": {
        "id": "hSMT9XBg7A_d"
      }
    },
    {
      "cell_type": "code",
      "execution_count": 10,
      "metadata": {
        "id": "r_uxP3dIvOpL"
      },
      "outputs": [],
      "source": [
        "# Padding sequences\n",
        "def pad_sequences(sequences, maxlen):\n",
        "    padded_sequences = np.zeros((len(sequences), maxlen), dtype=int)\n",
        "    for i, seq in enumerate(sequences):\n",
        "        if len(seq) > maxlen:\n",
        "            padded_sequences[i] = np.array(seq[:maxlen])\n",
        "        else:\n",
        "            padded_sequences[i, -len(seq):] = np.array(seq)\n",
        "    return padded_sequences\n",
        "\n",
        "max_len = 55  # Based on max length observed\n",
        "train_padded = pad_sequences(train_sequences, maxlen=max_len)\n",
        "test_padded = pad_sequences(test_sequences, maxlen=max_len)\n"
      ]
    },
    {
      "cell_type": "markdown",
      "source": [
        "Padding will be added to each tweet based on max_len, if tweet length is less than max_len then we add zeroes to make it the size of padding length. If not then it is cut to padding length."
      ],
      "metadata": {
        "id": "sqpKMC8o7JCh"
      }
    },
    {
      "cell_type": "code",
      "execution_count": 11,
      "metadata": {
        "id": "Dgv1lZDqvQLK"
      },
      "outputs": [],
      "source": [
        "# Prepare target variable\n",
        "train_labels = train['target'].values\n",
        "\n",
        "# Split data into training and validation sets\n",
        "X_train, X_val, y_train, y_val = train_test_split(train_padded, train_labels, test_size=0.2, random_state=1)\n",
        "\n",
        "# Create DataLoaders\n",
        "batch_size = 64\n",
        "\n",
        "# Convert to PyTorch tensors\n",
        "train_data = TensorDataset(torch.from_numpy(X_train), torch.from_numpy(y_train))\n",
        "valid_data = TensorDataset(torch.from_numpy(X_val), torch.from_numpy(y_val))\n",
        "\n",
        "# DataLoaders\n",
        "train_loader = DataLoader(train_data, shuffle=True, batch_size=batch_size)\n",
        "valid_loader = DataLoader(valid_data, shuffle=False, batch_size=batch_size)\n"
      ]
    },
    {
      "cell_type": "markdown",
      "source": [
        "Batch_size is set to 64, which means that each time 64 entries will be sent to the model for training, not the entire dataset at once. And the data is also converted into pytorch tensors, easy for working."
      ],
      "metadata": {
        "id": "ZQpOFMhO7vUC"
      }
    },
    {
      "cell_type": "code",
      "execution_count": 12,
      "metadata": {
        "id": "mTi1f_eivSkY"
      },
      "outputs": [],
      "source": [
        "# Prepare embedding weights matrix\n",
        "num_embeddings = len(new_embedding_index)\n",
        "embedding_dim = 50\n",
        "weights_matrix = np.zeros((num_embeddings, embedding_dim), dtype=np.float32)\n",
        "for idx, vec in new_embedding_index.items():\n",
        "    weights_matrix[idx] = vec\n",
        "weights_matrix = torch.tensor(weights_matrix)\n"
      ]
    },
    {
      "cell_type": "markdown",
      "source": [
        "Weight matrix is defined which will be used to laod on to the model based on the embedding_dimension."
      ],
      "metadata": {
        "id": "9rAvVW0b8F1z"
      }
    },
    {
      "cell_type": "markdown",
      "source": [
        "# Logistic Regression(Base model)"
      ],
      "metadata": {
        "id": "PXA05KlmcPVs"
      }
    },
    {
      "cell_type": "code",
      "source": [
        "import pandas as pd\n",
        "import numpy as np\n",
        "import torch\n",
        "import torch.nn as nn\n",
        "from torch.utils.data import TensorDataset, DataLoader\n",
        "from sklearn.model_selection import train_test_split\n",
        "\n",
        "# 3. Prepare Labels\n",
        "train_labels = train['target'].values\n",
        "\n",
        "# 4. Train/Validation Split\n",
        "X_train, X_val, y_train, y_val = train_test_split(train_padded, train_labels, test_size=0.2, random_state=1)\n",
        "\n",
        "# 5. Create TensorDatasets\n",
        "train_data = TensorDataset(torch.from_numpy(X_train), torch.from_numpy(y_train))\n",
        "valid_data = TensorDataset(torch.from_numpy(X_val), torch.from_numpy(y_val))\n",
        "test_data = TensorDataset(torch.from_numpy(test_padded))  # only inputs for test set\n",
        "\n",
        "# 6. Create DataLoaders\n",
        "batch_size = 64\n",
        "\n",
        "train_loader = DataLoader(train_data, shuffle=True, batch_size=batch_size)\n",
        "valid_loader = DataLoader(valid_data, shuffle=False, batch_size=batch_size)\n",
        "test_loader = DataLoader(test_data, shuffle=False, batch_size=batch_size)"
      ],
      "metadata": {
        "id": "xNnoBNXe8eGn"
      },
      "execution_count": 13,
      "outputs": []
    },
    {
      "cell_type": "markdown",
      "source": [
        "We prepare the labels and split the training data into training and validation sets. Then we create TensorDatasets and DataLoaders to efficiently feed data into the models during training and evaluation."
      ],
      "metadata": {
        "id": "kUgleaN2-Lnz"
      }
    },
    {
      "cell_type": "code",
      "source": [
        "# 7. Setup Device\n",
        "device = torch.device(\"cuda\" if torch.cuda.is_available() else \"cpu\")\n",
        "print(f'Using device: {device}')\n",
        "\n",
        "# 8. Define Baseline Logistic Regression Model\n",
        "class BaselineLogisticModel(nn.Module):\n",
        "    def __init__(self, input_dim, output_dim):\n",
        "        super(BaselineLogisticModel, self).__init__()\n",
        "        self.linear = nn.Linear(input_dim, output_dim)\n",
        "\n",
        "    def forward(self, x):\n",
        "        return self.linear(x)\n",
        "\n",
        "# Define model input dimension correctly based on train_padded\n",
        "embedding_dim = train_padded.shape[1]  # Automatically get correct dimension\n",
        "print(f\"Detected embedding dimension: {embedding_dim}\")\n",
        "\n",
        "baseline_model = BaselineLogisticModel(embedding_dim, 2)\n",
        "baseline_model = baseline_model.to(device)\n",
        "\n",
        "# 9. Define Loss and Optimizer\n",
        "criterion = nn.CrossEntropyLoss()\n",
        "baseline_optimizer = torch.optim.Adam(baseline_model.parameters(), lr=0.001)"
      ],
      "metadata": {
        "colab": {
          "base_uri": "https://localhost:8080/"
        },
        "id": "ZpAlwho9LRCa",
        "outputId": "f108913e-733a-496d-dfd2-2371658d5d2c"
      },
      "execution_count": 14,
      "outputs": [
        {
          "output_type": "stream",
          "name": "stdout",
          "text": [
            "Using device: cuda\n",
            "Detected embedding dimension: 55\n"
          ]
        }
      ]
    },
    {
      "cell_type": "markdown",
      "source": [
        "We set up the device (GPU or CPU) for model training, define the baseline Logistic Regression model using the correct input dimension based on the padded data, and initialize the optimizer (Adam) and the loss function (CrossEntropyLoss) for training the baseline model.\n",
        "\n",
        "\n"
      ],
      "metadata": {
        "id": "pyO4sBHA-532"
      }
    },
    {
      "cell_type": "code",
      "source": [
        "# 10. Define Train and Evaluate Functions\n",
        "def train(model, iterator, optimizer, criterion):\n",
        "    model.train()\n",
        "    epoch_loss = 0\n",
        "    correct = 0\n",
        "    total = 0\n",
        "\n",
        "    for inputs, labels in iterator:\n",
        "        inputs, labels = inputs.to(device), labels.to(device)\n",
        "        inputs = inputs.float()\n",
        "\n",
        "        optimizer.zero_grad()\n",
        "        predictions = model(inputs)\n",
        "        loss = criterion(predictions, labels)\n",
        "        loss.backward()\n",
        "        optimizer.step()\n",
        "\n",
        "        epoch_loss += loss.item()\n",
        "        _, predicted = torch.max(predictions, 1)\n",
        "        total += labels.size(0)\n",
        "        correct += (predicted == labels).sum().item()\n",
        "\n",
        "    accuracy = 100 * correct / total\n",
        "    return epoch_loss / len(iterator), accuracy\n",
        "\n",
        "def evaluate(model, iterator, criterion):\n",
        "    model.eval()\n",
        "    epoch_loss = 0\n",
        "    correct = 0\n",
        "    total = 0\n",
        "\n",
        "    with torch.no_grad():\n",
        "        for inputs, labels in iterator:\n",
        "            inputs, labels = inputs.to(device), labels.to(device)\n",
        "            inputs = inputs.float()\n",
        "\n",
        "            predictions = model(inputs)\n",
        "            loss = criterion(predictions, labels)\n",
        "\n",
        "            epoch_loss += loss.item()\n",
        "            _, predicted = torch.max(predictions, 1)\n",
        "            total += labels.size(0)\n",
        "            correct += (predicted == labels).sum().item()\n",
        "\n",
        "    accuracy = 100 * correct / total\n",
        "    return epoch_loss / len(iterator), accuracy\n",
        "\n",
        "# Predict function for Test\n",
        "def predict(model, iterator):\n",
        "    model.eval()\n",
        "    all_preds = []\n",
        "\n",
        "    with torch.no_grad():\n",
        "        for inputs in iterator:\n",
        "            inputs = inputs[0].to(device)  # only inputs in test\n",
        "            inputs = inputs.float()\n",
        "\n",
        "            outputs = model(inputs)\n",
        "            preds = torch.argmax(outputs, dim=1)\n",
        "            all_preds.extend(preds.cpu().numpy())\n",
        "\n",
        "    return all_preds\n",
        "\n",
        "# 11. Train the Baseline Model\n",
        "EPOCHS = 500 #\n",
        "\n",
        "for epoch in range(EPOCHS):\n",
        "    train_loss, train_acc = train(baseline_model, train_loader, baseline_optimizer, criterion)\n",
        "    valid_loss, valid_acc = evaluate(baseline_model, valid_loader, criterion)\n",
        "\n",
        "    # Print only every 20 epochs\n",
        "    if (epoch + 1) % 20 == 0 or epoch == 0 or epoch == EPOCHS-1:\n",
        "        print(f'Baseline Epoch {epoch+1}:')\n",
        "        print(f'  Train Loss: {train_loss:.4f} | Train Acc: {train_acc:.2f}%')\n",
        "        print(f'  Valid Loss: {valid_loss:.4f} | Valid Acc: {valid_acc:.2f}%')\n",
        "\n",
        "# 12. Predict on Test Set\n",
        "all_preds = predict(baseline_model, test_loader)\n",
        "print(\"Test Predictions Done!\")\n",
        "print(\"Sample Predictions:\", all_preds[:10])\n"
      ],
      "metadata": {
        "colab": {
          "base_uri": "https://localhost:8080/"
        },
        "id": "bY6WNRlC8oUi",
        "outputId": "ba1ed6a7-8060-43b6-b687-b5be849ffe01"
      },
      "execution_count": 15,
      "outputs": [
        {
          "output_type": "stream",
          "name": "stdout",
          "text": [
            "Baseline Epoch 1:\n",
            "  Train Loss: 311.3795 | Train Acc: 50.80%\n",
            "  Valid Loss: 111.7123 | Valid Acc: 50.23%\n",
            "Baseline Epoch 20:\n",
            "  Train Loss: 5.2467 | Train Acc: 50.34%\n",
            "  Valid Loss: 6.4440 | Valid Acc: 49.31%\n",
            "Baseline Epoch 40:\n",
            "  Train Loss: 6.2487 | Train Acc: 50.67%\n",
            "  Valid Loss: 5.8349 | Valid Acc: 56.40%\n",
            "Baseline Epoch 60:\n",
            "  Train Loss: 5.4495 | Train Acc: 50.44%\n",
            "  Valid Loss: 5.1151 | Valid Acc: 50.43%\n",
            "Baseline Epoch 80:\n",
            "  Train Loss: 4.7717 | Train Acc: 51.64%\n",
            "  Valid Loss: 12.0329 | Valid Acc: 42.09%\n",
            "Baseline Epoch 100:\n",
            "  Train Loss: 5.7712 | Train Acc: 51.36%\n",
            "  Valid Loss: 5.5039 | Valid Acc: 49.31%\n",
            "Baseline Epoch 120:\n",
            "  Train Loss: 6.1657 | Train Acc: 50.89%\n",
            "  Valid Loss: 10.8898 | Valid Acc: 43.34%\n",
            "Baseline Epoch 140:\n",
            "  Train Loss: 6.1376 | Train Acc: 51.40%\n",
            "  Valid Loss: 7.1404 | Valid Acc: 48.00%\n",
            "Baseline Epoch 160:\n",
            "  Train Loss: 5.3970 | Train Acc: 52.56%\n",
            "  Valid Loss: 7.3074 | Valid Acc: 56.40%\n",
            "Baseline Epoch 180:\n",
            "  Train Loss: 6.4890 | Train Acc: 51.46%\n",
            "  Valid Loss: 6.4716 | Valid Acc: 54.17%\n",
            "Baseline Epoch 200:\n",
            "  Train Loss: 6.3383 | Train Acc: 51.87%\n",
            "  Valid Loss: 5.6602 | Valid Acc: 50.56%\n",
            "Baseline Epoch 220:\n",
            "  Train Loss: 5.2512 | Train Acc: 51.49%\n",
            "  Valid Loss: 6.4887 | Valid Acc: 47.08%\n",
            "Baseline Epoch 240:\n",
            "  Train Loss: 5.6419 | Train Acc: 50.89%\n",
            "  Valid Loss: 5.0020 | Valid Acc: 54.83%\n",
            "Baseline Epoch 260:\n",
            "  Train Loss: 5.4159 | Train Acc: 52.13%\n",
            "  Valid Loss: 4.9202 | Valid Acc: 47.67%\n",
            "Baseline Epoch 280:\n",
            "  Train Loss: 6.1720 | Train Acc: 51.66%\n",
            "  Valid Loss: 14.5347 | Valid Acc: 45.90%\n",
            "Baseline Epoch 300:\n",
            "  Train Loss: 4.9627 | Train Acc: 52.12%\n",
            "  Valid Loss: 8.8141 | Valid Acc: 57.26%\n",
            "Baseline Epoch 320:\n",
            "  Train Loss: 6.2735 | Train Acc: 51.44%\n",
            "  Valid Loss: 4.5101 | Valid Acc: 54.89%\n",
            "Baseline Epoch 340:\n",
            "  Train Loss: 4.4293 | Train Acc: 51.66%\n",
            "  Valid Loss: 8.4402 | Valid Acc: 45.44%\n",
            "Baseline Epoch 360:\n",
            "  Train Loss: 4.6106 | Train Acc: 51.54%\n",
            "  Valid Loss: 5.9840 | Valid Acc: 54.17%\n",
            "Baseline Epoch 380:\n",
            "  Train Loss: 4.7060 | Train Acc: 51.82%\n",
            "  Valid Loss: 4.3315 | Valid Acc: 54.89%\n",
            "Baseline Epoch 400:\n",
            "  Train Loss: 5.4472 | Train Acc: 51.63%\n",
            "  Valid Loss: 6.8574 | Valid Acc: 55.42%\n",
            "Baseline Epoch 420:\n",
            "  Train Loss: 5.2437 | Train Acc: 51.35%\n",
            "  Valid Loss: 8.1805 | Valid Acc: 47.34%\n",
            "Baseline Epoch 440:\n",
            "  Train Loss: 4.3405 | Train Acc: 51.18%\n",
            "  Valid Loss: 4.9277 | Valid Acc: 55.61%\n",
            "Baseline Epoch 460:\n",
            "  Train Loss: 4.8048 | Train Acc: 51.36%\n",
            "  Valid Loss: 5.0376 | Valid Acc: 52.86%\n",
            "Baseline Epoch 480:\n",
            "  Train Loss: 5.3380 | Train Acc: 52.12%\n",
            "  Valid Loss: 4.7322 | Valid Acc: 55.81%\n",
            "Baseline Epoch 500:\n",
            "  Train Loss: 4.7092 | Train Acc: 51.31%\n",
            "  Valid Loss: 6.0493 | Valid Acc: 54.69%\n",
            "Test Predictions Done!\n",
            "Sample Predictions: [np.int64(0), np.int64(0), np.int64(0), np.int64(0), np.int64(0), np.int64(0), np.int64(0), np.int64(0), np.int64(0), np.int64(0)]\n"
          ]
        }
      ]
    },
    {
      "cell_type": "markdown",
      "source": [
        "We define training, evaluation, and prediction functions for our models. The training function updates the model weights using backpropagation, the evaluation function measures validation performance, and the prediction function generates model outputs on the unseen test set.\n",
        "\n"
      ],
      "metadata": {
        "id": "3gYzU_G7_I_L"
      }
    },
    {
      "cell_type": "markdown",
      "source": [
        "# BiLSTM model"
      ],
      "metadata": {
        "id": "xjQ7uQnocJ13"
      }
    },
    {
      "cell_type": "code",
      "execution_count": 16,
      "metadata": {
        "id": "SRKvT8kVvUHE"
      },
      "outputs": [],
      "source": [
        "class BiLSTM(nn.Module):\n",
        "    def __init__(self, weights_matrix, output_size, hidden_dim, hidden_dim2, n_layers, drop_prob=0.5):\n",
        "        super(BiLSTM, self).__init__()\n",
        "\n",
        "        self.output_size = output_size\n",
        "        self.n_layers = n_layers\n",
        "        self.hidden_dim = hidden_dim\n",
        "\n",
        "        # Embedding layer\n",
        "        num_embeddings, embedding_dim = weights_matrix.size()\n",
        "        self.embedding = nn.Embedding(num_embeddings, embedding_dim)\n",
        "        self.embedding.weight.data.copy_(weights_matrix)\n",
        "        self.embedding.weight.requires_grad = False  # Freeze embedding layer\n",
        "\n",
        "        # BiLSTM layer\n",
        "        self.lstm = nn.LSTM(embedding_dim, hidden_dim, n_layers, dropout=drop_prob, bidirectional=True, batch_first=True)\n",
        "\n",
        "        # Dropout layer\n",
        "        self.dropout = nn.Dropout(0.3)\n",
        "\n",
        "        # Fully connected layers\n",
        "        self.fc1 = nn.Linear(hidden_dim * 2, hidden_dim2)\n",
        "        self.fc2 = nn.Linear(hidden_dim2, output_size)\n",
        "\n",
        "        # Activation function\n",
        "        self.sigmoid = nn.Sigmoid()\n",
        "\n",
        "    def forward(self, x, hidden):\n",
        "        batch_size = x.size(0)\n",
        "\n",
        "        # Embedding\n",
        "        embeds = self.embedding(x)\n",
        "\n",
        "        # LSTM\n",
        "        lstm_out, hidden = self.lstm(embeds, hidden)\n",
        "\n",
        "        # Stack up LSTM outputs\n",
        "        lstm_out = lstm_out.contiguous().view(-1, self.hidden_dim * 2)\n",
        "\n",
        "        # Dropout and fully connected layers\n",
        "        out = self.dropout(lstm_out)\n",
        "        out = self.fc1(out)\n",
        "        out = F.relu(out)\n",
        "        out = self.dropout(out)\n",
        "        out = self.fc2(out)\n",
        "\n",
        "        # Sigmoid activation\n",
        "        sig_out = self.sigmoid(out)\n",
        "\n",
        "        # Reshape to batch_size first\n",
        "        sig_out = sig_out.view(batch_size, -1)\n",
        "        sig_out = sig_out[:, -1]  # Get last batch of labels\n",
        "\n",
        "        return sig_out, hidden\n",
        "\n",
        "    def init_hidden(self, batch_size, train_on_gpu=False):\n",
        "        weight = next(self.parameters()).data\n",
        "\n",
        "        layers = self.n_layers * 2  # Multiply by 2 for bidirectionality\n",
        "        if train_on_gpu:\n",
        "            hidden = (weight.new(layers, batch_size, self.hidden_dim).zero_().cuda(),\n",
        "                      weight.new(layers, batch_size, self.hidden_dim).zero_().cuda())\n",
        "        else:\n",
        "            hidden = (weight.new(layers, batch_size, self.hidden_dim).zero_(),\n",
        "                      weight.new(layers, batch_size, self.hidden_dim).zero_())\n",
        "        return hidden\n"
      ]
    },
    {
      "cell_type": "markdown",
      "source": [
        "We define the BiLSTM model, which uses pre-trained GloVe embeddings, a bidirectional LSTM layer to capture sequential information, followed by fully connected layers and a sigmoid activation for binary classification.\n",
        "\n"
      ],
      "metadata": {
        "id": "EHf2WREY_Z64"
      }
    },
    {
      "cell_type": "code",
      "execution_count": 17,
      "metadata": {
        "colab": {
          "base_uri": "https://localhost:8080/"
        },
        "id": "xf6LPmievV6U",
        "outputId": "5adecf4e-c5f1-456e-e638-71d2e8b4c3f3"
      },
      "outputs": [
        {
          "output_type": "stream",
          "name": "stdout",
          "text": [
            "BiLSTM(\n",
            "  (embedding): Embedding(22652, 50)\n",
            "  (lstm): LSTM(50, 128, num_layers=2, batch_first=True, dropout=0.5, bidirectional=True)\n",
            "  (dropout): Dropout(p=0.3, inplace=False)\n",
            "  (fc1): Linear(in_features=256, out_features=64, bias=True)\n",
            "  (fc2): Linear(in_features=64, out_features=1, bias=True)\n",
            "  (sigmoid): Sigmoid()\n",
            ")\n"
          ]
        }
      ],
      "source": [
        "# Instantiate the model\n",
        "output_size = 1\n",
        "hidden_dim = 128\n",
        "hidden_dim2 = 64\n",
        "n_layers = 2\n",
        "\n",
        "net = BiLSTM(weights_matrix, output_size, hidden_dim, hidden_dim2, n_layers)\n",
        "print(net)\n",
        "\n",
        "# Check if GPU is available\n",
        "train_on_gpu = torch.cuda.is_available()\n",
        "if train_on_gpu:\n",
        "    net.cuda()\n",
        "\n",
        "# Loss and optimization functions\n",
        "criterion = nn.BCELoss()\n",
        "optimizer = torch.optim.Adam(net.parameters(), lr=0.001)\n"
      ]
    },
    {
      "cell_type": "markdown",
      "source": [
        "We instantiate the BiLSTM model with specified hyperparameters, check if a GPU is available to accelerate training, and define the loss function (Binary Cross Entropy) and the Adam optimizer for updating model weights during training.\n",
        "\n"
      ],
      "metadata": {
        "id": "gzdz1ViD_a5m"
      }
    },
    {
      "cell_type": "code",
      "execution_count": 18,
      "metadata": {
        "colab": {
          "base_uri": "https://localhost:8080/"
        },
        "id": "ldaFDjaYvX3b",
        "outputId": "67d44d2d-c682-4e2a-fbe3-d41c2b224ed9"
      },
      "outputs": [
        {
          "output_type": "stream",
          "name": "stdout",
          "text": [
            "Epoch: 1/500... Train Loss : 0.541035... Val Loss: 0.466894...\n",
            "Epoch: 2/500... Train Loss : 0.461945... Val Loss: 0.466189...\n",
            "Epoch: 3/500... Train Loss : 0.443310... Val Loss: 0.469711...\n",
            "Epoch: 4/500... Train Loss : 0.440496... Val Loss: 0.446729...\n",
            "Epoch: 5/500... Train Loss : 0.422062... Val Loss: 0.463517...\n",
            "Epoch: 6/500... Train Loss : 0.411534... Val Loss: 0.441851...\n",
            "Epoch: 7/500... Train Loss : 0.402192... Val Loss: 0.445565...\n",
            "Epoch: 8/500... Train Loss : 0.384389... Val Loss: 0.471142...\n",
            "Epoch: 9/500... Train Loss : 0.377583... Val Loss: 0.476093...\n",
            "Epoch: 10/500... Train Loss : 0.361063... Val Loss: 0.462326...\n",
            "Epoch: 11/500... Train Loss : 0.352598... Val Loss: 0.467868...\n",
            "Epoch: 12/500... Train Loss : 0.330687... Val Loss: 0.522738...\n",
            "Epoch: 13/500... Train Loss : 0.312733... Val Loss: 0.491597...\n",
            "Epoch: 14/500... Train Loss : 0.292930... Val Loss: 0.535955...\n",
            "Epoch: 15/500... Train Loss : 0.289320... Val Loss: 0.586363...\n",
            "Epoch: 16/500... Train Loss : 0.265419... Val Loss: 0.609736...\n",
            "Epoch: 17/500... Train Loss : 0.251922... Val Loss: 0.572616...\n",
            "Epoch: 18/500... Train Loss : 0.235771... Val Loss: 0.650700...\n",
            "Epoch: 19/500... Train Loss : 0.210720... Val Loss: 0.753680...\n",
            "Epoch: 20/500... Train Loss : 0.199202... Val Loss: 0.740761...\n",
            "Epoch: 21/500... Train Loss : 0.180405... Val Loss: 0.895438...\n",
            "Epoch: 22/500... Train Loss : 0.185258... Val Loss: 0.825087...\n",
            "Epoch: 23/500... Train Loss : 0.169266... Val Loss: 0.830670...\n",
            "Epoch: 24/500... Train Loss : 0.150400... Val Loss: 0.869809...\n",
            "Epoch: 25/500... Train Loss : 0.140139... Val Loss: 0.924858...\n",
            "Epoch: 26/500... Train Loss : 0.121374... Val Loss: 1.062203...\n",
            "Epoch: 27/500... Train Loss : 0.113116... Val Loss: 0.928145...\n",
            "Epoch: 28/500... Train Loss : 0.096592... Val Loss: 1.137427...\n",
            "Epoch: 29/500... Train Loss : 0.102417... Val Loss: 1.154008...\n",
            "Epoch: 30/500... Train Loss : 0.092547... Val Loss: 1.150330...\n",
            "Epoch: 31/500... Train Loss : 0.102860... Val Loss: 1.078579...\n",
            "Epoch: 32/500... Train Loss : 0.074295... Val Loss: 1.188308...\n",
            "Epoch: 33/500... Train Loss : 0.071993... Val Loss: 1.535346...\n",
            "Epoch: 34/500... Train Loss : 0.071066... Val Loss: 1.562601...\n",
            "Epoch: 35/500... Train Loss : 0.065058... Val Loss: 1.256867...\n",
            "Epoch: 36/500... Train Loss : 0.063153... Val Loss: 1.370664...\n",
            "Epoch: 37/500... Train Loss : 0.058364... Val Loss: 1.424063...\n",
            "Epoch: 38/500... Train Loss : 0.051841... Val Loss: 1.490001...\n",
            "Epoch: 39/500... Train Loss : 0.051922... Val Loss: 1.510793...\n",
            "Epoch: 40/500... Train Loss : 0.047351... Val Loss: 2.006511...\n",
            "Epoch: 41/500... Train Loss : 0.046475... Val Loss: 1.853340...\n",
            "Epoch: 42/500... Train Loss : 0.046052... Val Loss: 1.864102...\n",
            "Epoch: 43/500... Train Loss : 0.057844... Val Loss: 1.826945...\n",
            "Epoch: 44/500... Train Loss : 0.045593... Val Loss: 1.772824...\n",
            "Epoch: 45/500... Train Loss : 0.053754... Val Loss: 2.273034...\n",
            "Epoch: 46/500... Train Loss : 0.062530... Val Loss: 1.450632...\n",
            "Epoch: 47/500... Train Loss : 0.048873... Val Loss: 1.610089...\n",
            "Epoch: 48/500... Train Loss : 0.049979... Val Loss: 1.564137...\n",
            "Epoch: 49/500... Train Loss : 0.039784... Val Loss: 2.453778...\n",
            "Epoch: 50/500... Train Loss : 0.039033... Val Loss: 1.844902...\n",
            "Epoch: 51/500... Train Loss : 0.037098... Val Loss: 1.892372...\n",
            "Epoch: 52/500... Train Loss : 0.036219... Val Loss: 2.002883...\n",
            "Epoch: 53/500... Train Loss : 0.039591... Val Loss: 2.274668...\n",
            "Epoch: 54/500... Train Loss : 0.041093... Val Loss: 1.974838...\n",
            "Epoch: 55/500... Train Loss : 0.036875... Val Loss: 1.995968...\n",
            "Epoch: 56/500... Train Loss : 0.040126... Val Loss: 2.177004...\n",
            "Epoch: 57/500... Train Loss : 0.040302... Val Loss: 1.683022...\n",
            "Epoch: 58/500... Train Loss : 0.044680... Val Loss: 1.441266...\n",
            "Epoch: 59/500... Train Loss : 0.046995... Val Loss: 1.454884...\n",
            "Epoch: 60/500... Train Loss : 0.038563... Val Loss: 1.800543...\n",
            "Epoch: 61/500... Train Loss : 0.036643... Val Loss: 1.945168...\n",
            "Epoch: 62/500... Train Loss : 0.034565... Val Loss: 1.812214...\n",
            "Epoch: 63/500... Train Loss : 0.026557... Val Loss: 2.166116...\n",
            "Epoch: 64/500... Train Loss : 0.023935... Val Loss: 2.447867...\n",
            "Epoch: 65/500... Train Loss : 0.026172... Val Loss: 2.168818...\n",
            "Epoch: 66/500... Train Loss : 0.028678... Val Loss: 2.833412...\n",
            "Epoch: 67/500... Train Loss : 0.040747... Val Loss: 1.923938...\n",
            "Epoch: 68/500... Train Loss : 0.044109... Val Loss: 1.754765...\n",
            "Epoch: 69/500... Train Loss : 0.039438... Val Loss: 2.022121...\n",
            "Epoch: 70/500... Train Loss : 0.041073... Val Loss: 1.930113...\n",
            "Epoch: 71/500... Train Loss : 0.033590... Val Loss: 2.290401...\n",
            "Epoch: 72/500... Train Loss : 0.039947... Val Loss: 1.666222...\n",
            "Epoch: 73/500... Train Loss : 0.036709... Val Loss: 2.301018...\n",
            "Epoch: 74/500... Train Loss : 0.031495... Val Loss: 2.603696...\n",
            "Epoch: 75/500... Train Loss : 0.024669... Val Loss: 2.621205...\n",
            "Epoch: 76/500... Train Loss : 0.031289... Val Loss: 2.894846...\n",
            "Epoch: 77/500... Train Loss : 0.034109... Val Loss: 2.562009...\n",
            "Epoch: 78/500... Train Loss : 0.029863... Val Loss: 2.215183...\n",
            "Epoch: 79/500... Train Loss : 0.032585... Val Loss: 2.545424...\n",
            "Epoch: 80/500... Train Loss : 0.037087... Val Loss: 1.709681...\n",
            "Epoch: 81/500... Train Loss : 0.056384... Val Loss: 1.429300...\n",
            "Epoch: 82/500... Train Loss : 0.033672... Val Loss: 1.726039...\n",
            "Epoch: 83/500... Train Loss : 0.028342... Val Loss: 1.809864...\n",
            "Epoch: 84/500... Train Loss : 0.025403... Val Loss: 1.958795...\n",
            "Epoch: 85/500... Train Loss : 0.032118... Val Loss: 1.986784...\n",
            "Epoch: 86/500... Train Loss : 0.038729... Val Loss: 1.737994...\n",
            "Epoch: 87/500... Train Loss : 0.032061... Val Loss: 1.800600...\n",
            "Epoch: 88/500... Train Loss : 0.029715... Val Loss: 1.819155...\n",
            "Epoch: 89/500... Train Loss : 0.029204... Val Loss: 1.837626...\n",
            "Epoch: 90/500... Train Loss : 0.029311... Val Loss: 1.798333...\n",
            "Epoch: 91/500... Train Loss : 0.033090... Val Loss: 1.755272...\n",
            "Epoch: 92/500... Train Loss : 0.029266... Val Loss: 2.802949...\n",
            "Epoch: 93/500... Train Loss : 0.028583... Val Loss: 2.262749...\n",
            "Epoch: 94/500... Train Loss : 0.027298... Val Loss: 2.805162...\n",
            "Epoch: 95/500... Train Loss : 0.031975... Val Loss: 1.901045...\n",
            "Epoch: 96/500... Train Loss : 0.032766... Val Loss: 1.902240...\n",
            "Epoch: 97/500... Train Loss : 0.035555... Val Loss: 1.654274...\n",
            "Epoch: 98/500... Train Loss : 0.037250... Val Loss: 1.751417...\n",
            "Epoch: 99/500... Train Loss : 0.034616... Val Loss: 1.713830...\n",
            "Epoch: 100/500... Train Loss : 0.029037... Val Loss: 1.740579...\n",
            "Epoch: 101/500... Train Loss : 0.030795... Val Loss: 1.881822...\n",
            "Epoch: 102/500... Train Loss : 0.023663... Val Loss: 2.246199...\n",
            "Epoch: 103/500... Train Loss : 0.023802... Val Loss: 2.454946...\n",
            "Epoch: 104/500... Train Loss : 0.023371... Val Loss: 2.866837...\n",
            "Epoch: 105/500... Train Loss : 0.022044... Val Loss: 2.912329...\n",
            "Epoch: 106/500... Train Loss : 0.024550... Val Loss: 2.537710...\n",
            "Epoch: 107/500... Train Loss : 0.026931... Val Loss: 2.745382...\n",
            "Epoch: 108/500... Train Loss : 0.023670... Val Loss: 2.801875...\n",
            "Epoch: 109/500... Train Loss : 0.022995... Val Loss: 3.248696...\n",
            "Epoch: 110/500... Train Loss : 0.022184... Val Loss: 3.244652...\n",
            "Epoch: 111/500... Train Loss : 0.022903... Val Loss: 3.587866...\n",
            "Epoch: 112/500... Train Loss : 0.022626... Val Loss: 4.054269...\n",
            "Epoch: 113/500... Train Loss : 0.020840... Val Loss: 3.534202...\n",
            "Epoch: 114/500... Train Loss : 0.021974... Val Loss: 3.744305...\n",
            "Epoch: 115/500... Train Loss : 0.030741... Val Loss: 2.593069...\n",
            "Epoch: 116/500... Train Loss : 0.056943... Val Loss: 1.544048...\n",
            "Epoch: 117/500... Train Loss : 0.050952... Val Loss: 1.159859...\n",
            "Epoch: 118/500... Train Loss : 0.036305... Val Loss: 1.550678...\n",
            "Epoch: 119/500... Train Loss : 0.027540... Val Loss: 2.163195...\n",
            "Epoch: 120/500... Train Loss : 0.023760... Val Loss: 2.535533...\n",
            "Epoch: 121/500... Train Loss : 0.022836... Val Loss: 2.302521...\n",
            "Epoch: 122/500... Train Loss : 0.030675... Val Loss: 2.357487...\n",
            "Epoch: 123/500... Train Loss : 0.024684... Val Loss: 2.723746...\n",
            "Epoch: 124/500... Train Loss : 0.023751... Val Loss: 2.713517...\n",
            "Epoch: 125/500... Train Loss : 0.025225... Val Loss: 2.775999...\n",
            "Epoch: 126/500... Train Loss : 0.029225... Val Loss: 2.407078...\n",
            "Epoch: 127/500... Train Loss : 0.029225... Val Loss: 2.655889...\n",
            "Epoch: 128/500... Train Loss : 0.023641... Val Loss: 3.057221...\n",
            "Epoch: 129/500... Train Loss : 0.024183... Val Loss: 2.741721...\n",
            "Epoch: 130/500... Train Loss : 0.027809... Val Loss: 2.755391...\n",
            "Epoch: 131/500... Train Loss : 0.033322... Val Loss: 1.892065...\n",
            "Epoch: 132/500... Train Loss : 0.031311... Val Loss: 1.833302...\n",
            "Epoch: 133/500... Train Loss : 0.036331... Val Loss: 1.790166...\n",
            "Epoch: 134/500... Train Loss : 0.030823... Val Loss: 1.887414...\n",
            "Epoch: 135/500... Train Loss : 0.024169... Val Loss: 2.074456...\n",
            "Epoch: 136/500... Train Loss : 0.021922... Val Loss: 2.588359...\n",
            "Epoch: 137/500... Train Loss : 0.023831... Val Loss: 2.287994...\n",
            "Epoch: 138/500... Train Loss : 0.022492... Val Loss: 2.734091...\n",
            "Epoch: 139/500... Train Loss : 0.024727... Val Loss: 2.835674...\n",
            "Epoch: 140/500... Train Loss : 0.027922... Val Loss: 2.217050...\n",
            "Epoch: 141/500... Train Loss : 0.027215... Val Loss: 2.426007...\n",
            "Epoch: 142/500... Train Loss : 0.031763... Val Loss: 2.453143...\n",
            "Epoch: 143/500... Train Loss : 0.032590... Val Loss: 2.846132...\n",
            "Epoch: 144/500... Train Loss : 0.025238... Val Loss: 3.840567...\n",
            "Epoch: 145/500... Train Loss : 0.022340... Val Loss: 3.878643...\n",
            "Epoch: 146/500... Train Loss : 0.021436... Val Loss: 4.005815...\n",
            "Epoch: 147/500... Train Loss : 0.021861... Val Loss: 4.186299...\n",
            "Epoch: 148/500... Train Loss : 0.020823... Val Loss: 4.205967...\n",
            "Epoch: 149/500... Train Loss : 0.019844... Val Loss: 4.742754...\n",
            "Epoch: 150/500... Train Loss : 0.020634... Val Loss: 4.383574...\n",
            "Epoch: 151/500... Train Loss : 0.021489... Val Loss: 3.860162...\n",
            "Epoch: 152/500... Train Loss : 0.024518... Val Loss: 4.888076...\n",
            "Epoch: 153/500... Train Loss : 0.042636... Val Loss: 1.768889...\n",
            "Epoch: 154/500... Train Loss : 0.031368... Val Loss: 2.639207...\n",
            "Epoch: 155/500... Train Loss : 0.027845... Val Loss: 2.513899...\n",
            "Epoch: 156/500... Train Loss : 0.023186... Val Loss: 2.606866...\n",
            "Epoch: 157/500... Train Loss : 0.024618... Val Loss: 2.728425...\n",
            "Epoch: 158/500... Train Loss : 0.026491... Val Loss: 2.601003...\n",
            "Epoch: 159/500... Train Loss : 0.023854... Val Loss: 2.971298...\n",
            "Epoch: 160/500... Train Loss : 0.030888... Val Loss: 2.547527...\n",
            "Epoch: 161/500... Train Loss : 0.025274... Val Loss: 2.815566...\n",
            "Epoch: 162/500... Train Loss : 0.030223... Val Loss: 3.316017...\n",
            "Epoch: 163/500... Train Loss : 0.026299... Val Loss: 2.314489...\n",
            "Epoch: 164/500... Train Loss : 0.022058... Val Loss: 2.707128...\n",
            "Epoch: 165/500... Train Loss : 0.023314... Val Loss: 3.301761...\n",
            "Epoch: 166/500... Train Loss : 0.023742... Val Loss: 2.725060...\n",
            "Epoch: 167/500... Train Loss : 0.025421... Val Loss: 2.751904...\n",
            "Epoch: 168/500... Train Loss : 0.026151... Val Loss: 2.828231...\n",
            "Epoch: 169/500... Train Loss : 0.022556... Val Loss: 3.228914...\n",
            "Epoch: 170/500... Train Loss : 0.021000... Val Loss: 3.240111...\n",
            "Epoch: 171/500... Train Loss : 0.021977... Val Loss: 3.474616...\n",
            "Epoch: 172/500... Train Loss : 0.020892... Val Loss: 3.754140...\n",
            "Epoch: 173/500... Train Loss : 0.019216... Val Loss: 3.711793...\n",
            "Epoch: 174/500... Train Loss : 0.020498... Val Loss: 4.891145...\n",
            "Epoch: 175/500... Train Loss : 0.029370... Val Loss: 3.820540...\n",
            "Epoch: 176/500... Train Loss : 0.037515... Val Loss: 3.294177...\n",
            "Epoch: 177/500... Train Loss : 0.029697... Val Loss: 2.829326...\n",
            "Epoch: 178/500... Train Loss : 0.023722... Val Loss: 3.066917...\n",
            "Epoch: 179/500... Train Loss : 0.021767... Val Loss: 3.606421...\n",
            "Epoch: 180/500... Train Loss : 0.021754... Val Loss: 2.731616...\n",
            "Epoch: 181/500... Train Loss : 0.020475... Val Loss: 3.608143...\n",
            "Epoch: 182/500... Train Loss : 0.019846... Val Loss: 3.892908...\n",
            "Epoch: 183/500... Train Loss : 0.023472... Val Loss: 2.996131...\n",
            "Epoch: 184/500... Train Loss : 0.027726... Val Loss: 3.188153...\n",
            "Epoch: 185/500... Train Loss : 0.041420... Val Loss: 1.740617...\n",
            "Epoch: 186/500... Train Loss : 0.031962... Val Loss: 1.871275...\n",
            "Epoch: 187/500... Train Loss : 0.026793... Val Loss: 1.696505...\n",
            "Epoch: 188/500... Train Loss : 0.023572... Val Loss: 2.160172...\n",
            "Epoch: 189/500... Train Loss : 0.031025... Val Loss: 1.856069...\n",
            "Epoch: 190/500... Train Loss : 0.024866... Val Loss: 1.783858...\n",
            "Epoch: 191/500... Train Loss : 0.022697... Val Loss: 2.528553...\n",
            "Epoch: 192/500... Train Loss : 0.021861... Val Loss: 2.626979...\n",
            "Epoch: 193/500... Train Loss : 0.021562... Val Loss: 2.824575...\n",
            "Epoch: 194/500... Train Loss : 0.021143... Val Loss: 3.244669...\n",
            "Epoch: 195/500... Train Loss : 0.023038... Val Loss: 2.555356...\n",
            "Epoch: 196/500... Train Loss : 0.023220... Val Loss: 2.798462...\n",
            "Epoch: 197/500... Train Loss : 0.019868... Val Loss: 3.163924...\n",
            "Epoch: 198/500... Train Loss : 0.025746... Val Loss: 2.022065...\n",
            "Epoch: 199/500... Train Loss : 0.026291... Val Loss: 2.185238...\n",
            "Epoch: 200/500... Train Loss : 0.022316... Val Loss: 2.623907...\n",
            "Epoch: 201/500... Train Loss : 0.025095... Val Loss: 2.794453...\n",
            "Epoch: 202/500... Train Loss : 0.028870... Val Loss: 1.847434...\n",
            "Epoch: 203/500... Train Loss : 0.027480... Val Loss: 2.021917...\n",
            "Epoch: 204/500... Train Loss : 0.021042... Val Loss: 2.684681...\n",
            "Epoch: 205/500... Train Loss : 0.021205... Val Loss: 2.790970...\n",
            "Epoch: 206/500... Train Loss : 0.019952... Val Loss: 3.353503...\n",
            "Epoch: 207/500... Train Loss : 0.022150... Val Loss: 3.584281...\n",
            "Epoch: 208/500... Train Loss : 0.019789... Val Loss: 3.838803...\n",
            "Epoch: 209/500... Train Loss : 0.030859... Val Loss: 2.967230...\n",
            "Epoch: 210/500... Train Loss : 0.034428... Val Loss: 2.720853...\n",
            "Epoch: 211/500... Train Loss : 0.030370... Val Loss: 1.783264...\n",
            "Epoch: 212/500... Train Loss : 0.023499... Val Loss: 2.300891...\n",
            "Epoch: 213/500... Train Loss : 0.023817... Val Loss: 2.480539...\n",
            "Epoch: 214/500... Train Loss : 0.021275... Val Loss: 3.140212...\n",
            "Epoch: 215/500... Train Loss : 0.022422... Val Loss: 2.870290...\n",
            "Epoch: 216/500... Train Loss : 0.022571... Val Loss: 2.976400...\n",
            "Epoch: 217/500... Train Loss : 0.021770... Val Loss: 3.061582...\n",
            "Epoch: 218/500... Train Loss : 0.020796... Val Loss: 3.540019...\n",
            "Epoch: 219/500... Train Loss : 0.019873... Val Loss: 3.981111...\n",
            "Epoch: 220/500... Train Loss : 0.050978... Val Loss: 1.926298...\n",
            "Epoch: 221/500... Train Loss : 0.024666... Val Loss: 2.667380...\n",
            "Epoch: 222/500... Train Loss : 0.022425... Val Loss: 3.342735...\n",
            "Epoch: 223/500... Train Loss : 0.022220... Val Loss: 3.107769...\n",
            "Epoch: 224/500... Train Loss : 0.021870... Val Loss: 3.855926...\n",
            "Epoch: 225/500... Train Loss : 0.031925... Val Loss: 2.481120...\n",
            "Epoch: 226/500... Train Loss : 0.030395... Val Loss: 2.228369...\n",
            "Epoch: 227/500... Train Loss : 0.024847... Val Loss: 1.913127...\n",
            "Epoch: 228/500... Train Loss : 0.020763... Val Loss: 2.580756...\n",
            "Epoch: 229/500... Train Loss : 0.024311... Val Loss: 1.820025...\n",
            "Epoch: 230/500... Train Loss : 0.022841... Val Loss: 1.950157...\n",
            "Epoch: 231/500... Train Loss : 0.020043... Val Loss: 2.504691...\n",
            "Epoch: 232/500... Train Loss : 0.019741... Val Loss: 2.791378...\n",
            "Epoch: 233/500... Train Loss : 0.019663... Val Loss: 3.071758...\n",
            "Epoch: 234/500... Train Loss : 0.020397... Val Loss: 3.110372...\n",
            "Epoch: 235/500... Train Loss : 0.020989... Val Loss: 3.521720...\n",
            "Epoch: 236/500... Train Loss : 0.019229... Val Loss: 3.837168...\n",
            "Epoch: 237/500... Train Loss : 0.019730... Val Loss: 4.056508...\n",
            "Epoch: 238/500... Train Loss : 0.019561... Val Loss: 4.068479...\n",
            "Epoch: 239/500... Train Loss : 0.021045... Val Loss: 4.294062...\n",
            "Epoch: 240/500... Train Loss : 0.019387... Val Loss: 4.121400...\n",
            "Epoch: 241/500... Train Loss : 0.020576... Val Loss: 4.129198...\n",
            "Epoch: 242/500... Train Loss : 0.021159... Val Loss: 3.416694...\n",
            "Epoch: 243/500... Train Loss : 0.019663... Val Loss: 3.953098...\n",
            "Epoch: 244/500... Train Loss : 0.037407... Val Loss: 1.667685...\n",
            "Epoch: 245/500... Train Loss : 0.043763... Val Loss: 1.580026...\n",
            "Epoch: 246/500... Train Loss : 0.024924... Val Loss: 2.575672...\n",
            "Epoch: 247/500... Train Loss : 0.029356... Val Loss: 2.490679...\n",
            "Epoch: 248/500... Train Loss : 0.023685... Val Loss: 2.873988...\n",
            "Epoch: 249/500... Train Loss : 0.025064... Val Loss: 3.076839...\n",
            "Epoch: 250/500... Train Loss : 0.029176... Val Loss: 1.964269...\n",
            "Epoch: 251/500... Train Loss : 0.026135... Val Loss: 1.983231...\n",
            "Epoch: 252/500... Train Loss : 0.025589... Val Loss: 1.809513...\n",
            "Epoch: 253/500... Train Loss : 0.021537... Val Loss: 2.579759...\n",
            "Epoch: 254/500... Train Loss : 0.020537... Val Loss: 2.836576...\n",
            "Epoch: 255/500... Train Loss : 0.023756... Val Loss: 2.130963...\n",
            "Epoch: 256/500... Train Loss : 0.021099... Val Loss: 2.889134...\n",
            "Epoch: 257/500... Train Loss : 0.019527... Val Loss: 3.214579...\n",
            "Epoch: 258/500... Train Loss : 0.023940... Val Loss: 2.739595...\n",
            "Epoch: 259/500... Train Loss : 0.025041... Val Loss: 2.401656...\n",
            "Epoch: 260/500... Train Loss : 0.020694... Val Loss: 2.792531...\n",
            "Epoch: 261/500... Train Loss : 0.019922... Val Loss: 3.108654...\n",
            "Epoch: 262/500... Train Loss : 0.020075... Val Loss: 3.155988...\n",
            "Epoch: 263/500... Train Loss : 0.020312... Val Loss: 3.184317...\n",
            "Epoch: 264/500... Train Loss : 0.020729... Val Loss: 3.504434...\n",
            "Epoch: 265/500... Train Loss : 0.021104... Val Loss: 3.800636...\n",
            "Epoch: 266/500... Train Loss : 0.025349... Val Loss: 2.951531...\n",
            "Epoch: 267/500... Train Loss : 0.035527... Val Loss: 1.837320...\n",
            "Epoch: 268/500... Train Loss : 0.031136... Val Loss: 1.775432...\n",
            "Epoch: 269/500... Train Loss : 0.027946... Val Loss: 1.867488...\n",
            "Epoch: 270/500... Train Loss : 0.024773... Val Loss: 2.373932...\n",
            "Epoch: 271/500... Train Loss : 0.020457... Val Loss: 2.866901...\n",
            "Epoch: 272/500... Train Loss : 0.019469... Val Loss: 3.090314...\n",
            "Epoch: 273/500... Train Loss : 0.022395... Val Loss: 2.959448...\n",
            "Epoch: 274/500... Train Loss : 0.021410... Val Loss: 2.928865...\n",
            "Epoch: 275/500... Train Loss : 0.025420... Val Loss: 2.801423...\n",
            "Epoch: 276/500... Train Loss : 0.023672... Val Loss: 2.639616...\n",
            "Epoch: 277/500... Train Loss : 0.022299... Val Loss: 2.806598...\n",
            "Epoch: 278/500... Train Loss : 0.020826... Val Loss: 2.951052...\n",
            "Epoch: 279/500... Train Loss : 0.021139... Val Loss: 2.920909...\n",
            "Epoch: 280/500... Train Loss : 0.027009... Val Loss: 2.305544...\n",
            "Epoch: 281/500... Train Loss : 0.026365... Val Loss: 2.400993...\n",
            "Epoch: 282/500... Train Loss : 0.023576... Val Loss: 3.092564...\n",
            "Epoch: 283/500... Train Loss : 0.022322... Val Loss: 2.677016...\n",
            "Epoch: 284/500... Train Loss : 0.020778... Val Loss: 3.075223...\n",
            "Epoch: 285/500... Train Loss : 0.020376... Val Loss: 3.176897...\n",
            "Epoch: 286/500... Train Loss : 0.020852... Val Loss: 3.527297...\n",
            "Epoch: 287/500... Train Loss : 0.019814... Val Loss: 3.669378...\n",
            "Epoch: 288/500... Train Loss : 0.019994... Val Loss: 4.190848...\n",
            "Epoch: 289/500... Train Loss : 0.020197... Val Loss: 3.630427...\n",
            "Epoch: 290/500... Train Loss : 0.021505... Val Loss: 3.552212...\n",
            "Epoch: 291/500... Train Loss : 0.019827... Val Loss: 3.824249...\n",
            "Epoch: 292/500... Train Loss : 0.019598... Val Loss: 4.359782...\n",
            "Epoch: 293/500... Train Loss : 0.020647... Val Loss: 4.755930...\n",
            "Epoch: 294/500... Train Loss : 0.020132... Val Loss: 4.879732...\n",
            "Epoch: 295/500... Train Loss : 0.022279... Val Loss: 3.514634...\n",
            "Epoch: 296/500... Train Loss : 0.027154... Val Loss: 3.418147...\n",
            "Epoch: 297/500... Train Loss : 0.032705... Val Loss: 1.886779...\n",
            "Epoch: 298/500... Train Loss : 0.025612... Val Loss: 1.954914...\n",
            "Epoch: 299/500... Train Loss : 0.021382... Val Loss: 2.884166...\n",
            "Epoch: 300/500... Train Loss : 0.021671... Val Loss: 2.930468...\n",
            "Epoch: 301/500... Train Loss : 0.026380... Val Loss: 2.182346...\n",
            "Epoch: 302/500... Train Loss : 0.030630... Val Loss: 1.765216...\n",
            "Epoch: 303/500... Train Loss : 0.031858... Val Loss: 1.873553...\n",
            "Epoch: 304/500... Train Loss : 0.021835... Val Loss: 2.994669...\n",
            "Epoch: 305/500... Train Loss : 0.021174... Val Loss: 3.332904...\n",
            "Epoch: 306/500... Train Loss : 0.020025... Val Loss: 3.296440...\n",
            "Epoch: 307/500... Train Loss : 0.021482... Val Loss: 3.891677...\n",
            "Epoch: 308/500... Train Loss : 0.020684... Val Loss: 3.878598...\n",
            "Epoch: 309/500... Train Loss : 0.021343... Val Loss: 3.989859...\n",
            "Epoch: 310/500... Train Loss : 0.019415... Val Loss: 4.616257...\n",
            "Epoch: 311/500... Train Loss : 0.019578... Val Loss: 4.732957...\n",
            "Epoch: 312/500... Train Loss : 0.020045... Val Loss: 4.654204...\n",
            "Epoch: 313/500... Train Loss : 0.020013... Val Loss: 4.621751...\n",
            "Epoch: 314/500... Train Loss : 0.020831... Val Loss: 4.389105...\n",
            "Epoch: 315/500... Train Loss : 0.021558... Val Loss: 4.770401...\n",
            "Epoch: 316/500... Train Loss : 0.020012... Val Loss: 4.588617...\n",
            "Epoch: 317/500... Train Loss : 0.023805... Val Loss: 4.991767...\n",
            "Epoch: 318/500... Train Loss : 0.022187... Val Loss: 4.105821...\n",
            "Epoch: 319/500... Train Loss : 0.019613... Val Loss: 4.750510...\n",
            "Epoch: 320/500... Train Loss : 0.019410... Val Loss: 4.867627...\n",
            "Epoch: 321/500... Train Loss : 0.019582... Val Loss: 4.998052...\n",
            "Epoch: 322/500... Train Loss : 0.019528... Val Loss: 5.101260...\n",
            "Epoch: 323/500... Train Loss : 0.019133... Val Loss: 5.465472...\n",
            "Epoch: 324/500... Train Loss : 0.020472... Val Loss: 5.406141...\n",
            "Epoch: 325/500... Train Loss : 0.020487... Val Loss: 4.816120...\n",
            "Epoch: 326/500... Train Loss : 0.026933... Val Loss: 3.541056...\n",
            "Epoch: 327/500... Train Loss : 0.028184... Val Loss: 4.199292...\n",
            "Epoch: 328/500... Train Loss : 0.028753... Val Loss: 3.062941...\n",
            "Epoch: 329/500... Train Loss : 0.021595... Val Loss: 3.222834...\n",
            "Epoch: 330/500... Train Loss : 0.022171... Val Loss: 3.603031...\n",
            "Epoch: 331/500... Train Loss : 0.023784... Val Loss: 3.341596...\n",
            "Epoch: 332/500... Train Loss : 0.020929... Val Loss: 4.315038...\n",
            "Epoch: 333/500... Train Loss : 0.025291... Val Loss: 5.164516...\n",
            "Epoch: 334/500... Train Loss : 0.030141... Val Loss: 2.194351...\n",
            "Epoch: 335/500... Train Loss : 0.028924... Val Loss: 2.602540...\n",
            "Epoch: 336/500... Train Loss : 0.024455... Val Loss: 2.664418...\n",
            "Epoch: 337/500... Train Loss : 0.026181... Val Loss: 1.859823...\n",
            "Epoch: 338/500... Train Loss : 0.023177... Val Loss: 2.118291...\n",
            "Epoch: 339/500... Train Loss : 0.021498... Val Loss: 2.522029...\n",
            "Epoch: 340/500... Train Loss : 0.025288... Val Loss: 2.835987...\n",
            "Epoch: 341/500... Train Loss : 0.021274... Val Loss: 2.815671...\n",
            "Epoch: 342/500... Train Loss : 0.020374... Val Loss: 3.178002...\n",
            "Epoch: 343/500... Train Loss : 0.019955... Val Loss: 3.733868...\n",
            "Epoch: 344/500... Train Loss : 0.019301... Val Loss: 4.004595...\n",
            "Epoch: 345/500... Train Loss : 0.020415... Val Loss: 4.039753...\n",
            "Epoch: 346/500... Train Loss : 0.019991... Val Loss: 4.152075...\n",
            "Epoch: 347/500... Train Loss : 0.022949... Val Loss: 4.669902...\n",
            "Epoch: 348/500... Train Loss : 0.027728... Val Loss: 2.816345...\n",
            "Epoch: 349/500... Train Loss : 0.023517... Val Loss: 3.600765...\n",
            "Epoch: 350/500... Train Loss : 0.020738... Val Loss: 3.508235...\n",
            "Epoch: 351/500... Train Loss : 0.028957... Val Loss: 2.494188...\n",
            "Epoch: 352/500... Train Loss : 0.026541... Val Loss: 2.173482...\n",
            "Epoch: 353/500... Train Loss : 0.021078... Val Loss: 2.946702...\n",
            "Epoch: 354/500... Train Loss : 0.020419... Val Loss: 3.020374...\n",
            "Epoch: 355/500... Train Loss : 0.019428... Val Loss: 4.048151...\n",
            "Epoch: 356/500... Train Loss : 0.020541... Val Loss: 4.520116...\n",
            "Epoch: 357/500... Train Loss : 0.022029... Val Loss: 3.893650...\n",
            "Epoch: 358/500... Train Loss : 0.024331... Val Loss: 3.286895...\n",
            "Epoch: 359/500... Train Loss : 0.020728... Val Loss: 2.844442...\n",
            "Epoch: 360/500... Train Loss : 0.022923... Val Loss: 2.926046...\n",
            "Epoch: 361/500... Train Loss : 0.020086... Val Loss: 3.185562...\n",
            "Epoch: 362/500... Train Loss : 0.024777... Val Loss: 3.806673...\n",
            "Epoch: 363/500... Train Loss : 0.023371... Val Loss: 2.856740...\n",
            "Epoch: 364/500... Train Loss : 0.020440... Val Loss: 3.438217...\n",
            "Epoch: 365/500... Train Loss : 0.020426... Val Loss: 3.734486...\n",
            "Epoch: 366/500... Train Loss : 0.020487... Val Loss: 4.157448...\n",
            "Epoch: 367/500... Train Loss : 0.020286... Val Loss: 4.406652...\n",
            "Epoch: 368/500... Train Loss : 0.019230... Val Loss: 4.469457...\n",
            "Epoch: 369/500... Train Loss : 0.020537... Val Loss: 4.442941...\n",
            "Epoch: 370/500... Train Loss : 0.020435... Val Loss: 4.384484...\n",
            "Epoch: 371/500... Train Loss : 0.020657... Val Loss: 4.445921...\n",
            "Epoch: 372/500... Train Loss : 0.020984... Val Loss: 4.197974...\n",
            "Epoch: 373/500... Train Loss : 0.023953... Val Loss: 2.680279...\n",
            "Epoch: 374/500... Train Loss : 0.022585... Val Loss: 3.183499...\n",
            "Epoch: 375/500... Train Loss : 0.021977... Val Loss: 4.128338...\n",
            "Epoch: 376/500... Train Loss : 0.020727... Val Loss: 4.092299...\n",
            "Epoch: 377/500... Train Loss : 0.020241... Val Loss: 4.934270...\n",
            "Epoch: 378/500... Train Loss : 0.019958... Val Loss: 4.879132...\n",
            "Epoch: 379/500... Train Loss : 0.019679... Val Loss: 4.998085...\n",
            "Epoch: 380/500... Train Loss : 0.021014... Val Loss: 5.058907...\n",
            "Epoch: 381/500... Train Loss : 0.019584... Val Loss: 4.998620...\n",
            "Epoch: 382/500... Train Loss : 0.019474... Val Loss: 4.982793...\n",
            "Epoch: 383/500... Train Loss : 0.019966... Val Loss: 5.059705...\n",
            "Epoch: 384/500... Train Loss : 0.019408... Val Loss: 4.777353...\n",
            "Epoch: 385/500... Train Loss : 0.019195... Val Loss: 5.118351...\n",
            "Epoch: 386/500... Train Loss : 0.019228... Val Loss: 5.644777...\n",
            "Epoch: 387/500... Train Loss : 0.019782... Val Loss: 5.810588...\n",
            "Epoch: 388/500... Train Loss : 0.020011... Val Loss: 5.542945...\n",
            "Epoch: 389/500... Train Loss : 0.019554... Val Loss: 5.734246...\n",
            "Epoch: 390/500... Train Loss : 0.018834... Val Loss: 5.895475...\n",
            "Epoch: 391/500... Train Loss : 0.018905... Val Loss: 6.040675...\n",
            "Epoch: 392/500... Train Loss : 0.024988... Val Loss: 4.584936...\n",
            "Epoch: 393/500... Train Loss : 0.040411... Val Loss: 2.655598...\n",
            "Epoch: 394/500... Train Loss : 0.024764... Val Loss: 2.090848...\n",
            "Epoch: 395/500... Train Loss : 0.021985... Val Loss: 2.456997...\n",
            "Epoch: 396/500... Train Loss : 0.023189... Val Loss: 2.704270...\n",
            "Epoch: 397/500... Train Loss : 0.020636... Val Loss: 2.830827...\n",
            "Epoch: 398/500... Train Loss : 0.021214... Val Loss: 3.294216...\n",
            "Epoch: 399/500... Train Loss : 0.021731... Val Loss: 3.817071...\n",
            "Epoch: 400/500... Train Loss : 0.019741... Val Loss: 4.433302...\n",
            "Epoch: 401/500... Train Loss : 0.027403... Val Loss: 2.243207...\n",
            "Epoch: 402/500... Train Loss : 0.020632... Val Loss: 2.981897...\n",
            "Epoch: 403/500... Train Loss : 0.019838... Val Loss: 3.490594...\n",
            "Epoch: 404/500... Train Loss : 0.019847... Val Loss: 3.803519...\n",
            "Epoch: 405/500... Train Loss : 0.019939... Val Loss: 4.008583...\n",
            "Epoch: 406/500... Train Loss : 0.020014... Val Loss: 4.449779...\n",
            "Epoch: 407/500... Train Loss : 0.019994... Val Loss: 4.808241...\n",
            "Epoch: 408/500... Train Loss : 0.020607... Val Loss: 6.297271...\n",
            "Epoch: 409/500... Train Loss : 0.033808... Val Loss: 2.085184...\n",
            "Epoch: 410/500... Train Loss : 0.022905... Val Loss: 2.552826...\n",
            "Epoch: 411/500... Train Loss : 0.023701... Val Loss: 3.175167...\n",
            "Epoch: 412/500... Train Loss : 0.020475... Val Loss: 3.835228...\n",
            "Epoch: 413/500... Train Loss : 0.020599... Val Loss: 3.973556...\n",
            "Epoch: 414/500... Train Loss : 0.023355... Val Loss: 2.788624...\n",
            "Epoch: 415/500... Train Loss : 0.021314... Val Loss: 3.166421...\n",
            "Epoch: 416/500... Train Loss : 0.020665... Val Loss: 3.695048...\n",
            "Epoch: 417/500... Train Loss : 0.019668... Val Loss: 4.083071...\n",
            "Epoch: 418/500... Train Loss : 0.019281... Val Loss: 4.438130...\n",
            "Epoch: 419/500... Train Loss : 0.020656... Val Loss: 4.918726...\n",
            "Epoch: 420/500... Train Loss : 0.028254... Val Loss: 3.368745...\n",
            "Epoch: 421/500... Train Loss : 0.020106... Val Loss: 3.472880...\n",
            "Epoch: 422/500... Train Loss : 0.022632... Val Loss: 3.619349...\n",
            "Epoch: 423/500... Train Loss : 0.020665... Val Loss: 3.998123...\n",
            "Epoch: 424/500... Train Loss : 0.025011... Val Loss: 2.438904...\n",
            "Epoch: 425/500... Train Loss : 0.023024... Val Loss: 2.681220...\n",
            "Epoch: 426/500... Train Loss : 0.020281... Val Loss: 2.993549...\n",
            "Epoch: 427/500... Train Loss : 0.019634... Val Loss: 3.328836...\n",
            "Epoch: 428/500... Train Loss : 0.019941... Val Loss: 3.214461...\n",
            "Epoch: 429/500... Train Loss : 0.019359... Val Loss: 3.424508...\n",
            "Epoch: 430/500... Train Loss : 0.020200... Val Loss: 3.793841...\n",
            "Epoch: 431/500... Train Loss : 0.019384... Val Loss: 4.107388...\n",
            "Epoch: 432/500... Train Loss : 0.019796... Val Loss: 4.171817...\n",
            "Epoch: 433/500... Train Loss : 0.020517... Val Loss: 4.420484...\n",
            "Epoch: 434/500... Train Loss : 0.019911... Val Loss: 4.443840...\n",
            "Epoch: 435/500... Train Loss : 0.019607... Val Loss: 4.525359...\n",
            "Epoch: 436/500... Train Loss : 0.021736... Val Loss: 3.984515...\n",
            "Epoch: 437/500... Train Loss : 0.020620... Val Loss: 3.595181...\n",
            "Epoch: 438/500... Train Loss : 0.021631... Val Loss: 2.750772...\n",
            "Epoch: 439/500... Train Loss : 0.022160... Val Loss: 2.698304...\n",
            "Epoch: 440/500... Train Loss : 0.024868... Val Loss: 2.635638...\n",
            "Epoch: 441/500... Train Loss : 0.026983... Val Loss: 2.085481...\n",
            "Epoch: 442/500... Train Loss : 0.027361... Val Loss: 2.806131...\n",
            "Epoch: 443/500... Train Loss : 0.021933... Val Loss: 3.972075...\n",
            "Epoch: 444/500... Train Loss : 0.020995... Val Loss: 4.818590...\n",
            "Epoch: 445/500... Train Loss : 0.021553... Val Loss: 4.533386...\n",
            "Epoch: 446/500... Train Loss : 0.021605... Val Loss: 4.725582...\n",
            "Epoch: 447/500... Train Loss : 0.020617... Val Loss: 5.228526...\n",
            "Epoch: 448/500... Train Loss : 0.022706... Val Loss: 4.721728...\n",
            "Epoch: 449/500... Train Loss : 0.020678... Val Loss: 4.822791...\n",
            "Epoch: 450/500... Train Loss : 0.021427... Val Loss: 5.624093...\n",
            "Epoch: 451/500... Train Loss : 0.020462... Val Loss: 5.899331...\n",
            "Epoch: 452/500... Train Loss : 0.019614... Val Loss: 5.807581...\n",
            "Epoch: 453/500... Train Loss : 0.021552... Val Loss: 5.621163...\n",
            "Epoch: 454/500... Train Loss : 0.019600... Val Loss: 5.508059...\n",
            "Epoch: 455/500... Train Loss : 0.020192... Val Loss: 5.440232...\n",
            "Epoch: 456/500... Train Loss : 0.019634... Val Loss: 5.765778...\n",
            "Epoch: 457/500... Train Loss : 0.019706... Val Loss: 5.699630...\n",
            "Epoch: 458/500... Train Loss : 0.019419... Val Loss: 5.640234...\n",
            "Epoch: 459/500... Train Loss : 0.019219... Val Loss: 5.761979...\n",
            "Epoch: 460/500... Train Loss : 0.020659... Val Loss: 5.822226...\n",
            "Epoch: 461/500... Train Loss : 0.019884... Val Loss: 6.099334...\n",
            "Epoch: 462/500... Train Loss : 0.019951... Val Loss: 6.178985...\n",
            "Epoch: 463/500... Train Loss : 0.019731... Val Loss: 6.986598...\n",
            "Epoch: 464/500... Train Loss : 0.019485... Val Loss: 6.327719...\n",
            "Epoch: 465/500... Train Loss : 0.019121... Val Loss: 6.337746...\n",
            "Epoch: 466/500... Train Loss : 0.019496... Val Loss: 6.295413...\n",
            "Epoch: 467/500... Train Loss : 0.019236... Val Loss: 6.335118...\n",
            "Epoch: 468/500... Train Loss : 0.027137... Val Loss: 4.158143...\n",
            "Epoch: 469/500... Train Loss : 0.039455... Val Loss: 1.673705...\n",
            "Epoch: 470/500... Train Loss : 0.038950... Val Loss: 2.269660...\n",
            "Epoch: 471/500... Train Loss : 0.023182... Val Loss: 2.097716...\n",
            "Epoch: 472/500... Train Loss : 0.021758... Val Loss: 2.773504...\n",
            "Epoch: 473/500... Train Loss : 0.021772... Val Loss: 2.584968...\n",
            "Epoch: 474/500... Train Loss : 0.020739... Val Loss: 3.323690...\n",
            "Epoch: 475/500... Train Loss : 0.019833... Val Loss: 3.851787...\n",
            "Epoch: 476/500... Train Loss : 0.021939... Val Loss: 3.370430...\n",
            "Epoch: 477/500... Train Loss : 0.025455... Val Loss: 3.794756...\n",
            "Epoch: 478/500... Train Loss : 0.023263... Val Loss: 3.010592...\n",
            "Epoch: 479/500... Train Loss : 0.022960... Val Loss: 2.639495...\n",
            "Epoch: 480/500... Train Loss : 0.023857... Val Loss: 2.240711...\n",
            "Epoch: 481/500... Train Loss : 0.024370... Val Loss: 2.161781...\n",
            "Epoch: 482/500... Train Loss : 0.023137... Val Loss: 3.235527...\n",
            "Epoch: 483/500... Train Loss : 0.021388... Val Loss: 3.339574...\n",
            "Epoch: 484/500... Train Loss : 0.021332... Val Loss: 3.450687...\n",
            "Epoch: 485/500... Train Loss : 0.021010... Val Loss: 3.614475...\n",
            "Epoch: 486/500... Train Loss : 0.019575... Val Loss: 4.167986...\n",
            "Epoch: 487/500... Train Loss : 0.020650... Val Loss: 4.302588...\n",
            "Epoch: 488/500... Train Loss : 0.018892... Val Loss: 4.551037...\n",
            "Epoch: 489/500... Train Loss : 0.019301... Val Loss: 4.583022...\n",
            "Epoch: 490/500... Train Loss : 0.019498... Val Loss: 4.612013...\n",
            "Epoch: 491/500... Train Loss : 0.019447... Val Loss: 4.616806...\n",
            "Epoch: 492/500... Train Loss : 0.020225... Val Loss: 4.644315...\n",
            "Epoch: 493/500... Train Loss : 0.019337... Val Loss: 4.766335...\n",
            "Epoch: 494/500... Train Loss : 0.019973... Val Loss: 4.863878...\n",
            "Epoch: 495/500... Train Loss : 0.030957... Val Loss: 2.581727...\n",
            "Epoch: 496/500... Train Loss : 0.027730... Val Loss: 2.521022...\n",
            "Epoch: 497/500... Train Loss : 0.020346... Val Loss: 2.752106...\n",
            "Epoch: 498/500... Train Loss : 0.023353... Val Loss: 2.255108...\n",
            "Epoch: 499/500... Train Loss : 0.021891... Val Loss: 3.089272...\n",
            "Epoch: 500/500... Train Loss : 0.019337... Val Loss: 3.717391...\n"
          ]
        }
      ],
      "source": [
        "# Training the model\n",
        "epochs = 500  # You can increase this for better performance\n",
        "clip = 5  # Gradient clipping\n",
        "valid_loss_min = np.inf  # Track change in validation loss\n",
        "\n",
        "train_losses_epoch = []\n",
        "val_losses_epoch = []\n",
        "\n",
        "net.train()\n",
        "for epoch in range(epochs):\n",
        "    train_losses = []\n",
        "    for inputs, labels in train_loader:\n",
        "        # Move data to GPU if available\n",
        "        if train_on_gpu:\n",
        "            inputs, labels = inputs.cuda(), labels.cuda()\n",
        "        else:\n",
        "            inputs, labels = inputs, labels\n",
        "\n",
        "        # Initialize hidden state based on actual batch size\n",
        "        h = net.init_hidden(inputs.size(0), train_on_gpu)\n",
        "\n",
        "        # Create new variables for hidden state\n",
        "        h = tuple([each.data for each in h])\n",
        "\n",
        "        net.zero_grad()\n",
        "\n",
        "        # Forward pass\n",
        "        outputs, h = net(inputs, h)\n",
        "        loss = criterion(outputs.squeeze(), labels.float())\n",
        "        loss.backward()\n",
        "\n",
        "        # Gradient clipping\n",
        "        nn.utils.clip_grad_norm_(net.parameters(), clip)\n",
        "\n",
        "        optimizer.step()\n",
        "        train_losses.append(loss.item())\n",
        "\n",
        "    train_losses_epoch.append(np.mean(train_losses))\n",
        "\n",
        "    # Validation\n",
        "    val_losses = []\n",
        "    net.eval()\n",
        "    y_preds = []\n",
        "    y_true = []\n",
        "    y_probs = []\n",
        "    with torch.no_grad():\n",
        "        for inputs, labels in valid_loader:\n",
        "            # Move data to GPU if available\n",
        "            if train_on_gpu:\n",
        "                inputs, labels = inputs.cuda(), labels.cuda()\n",
        "            else:\n",
        "                inputs, labels = inputs, labels\n",
        "\n",
        "            # Initialize hidden state based on actual batch size\n",
        "            val_h = net.init_hidden(inputs.size(0), train_on_gpu)\n",
        "\n",
        "            # Create new variables for hidden state\n",
        "            val_h = tuple([each.data for each in val_h])\n",
        "\n",
        "            outputs, val_h = net(inputs, val_h)\n",
        "            val_loss = criterion(outputs.squeeze(), labels.float())\n",
        "            val_losses.append(val_loss.item())\n",
        "\n",
        "            # Save predictions for evaluation metrics\n",
        "            probs = outputs.squeeze().detach().cpu().numpy()\n",
        "            preds = torch.round(outputs.squeeze())\n",
        "            y_probs.extend(probs)\n",
        "            y_preds.extend(preds.detach().cpu().numpy())\n",
        "            y_true.extend(labels.detach().cpu().numpy())\n",
        "\n",
        "    val_losses_epoch.append(np.mean(val_losses))\n",
        "\n",
        "    net.train()\n",
        "\n",
        "    print(f\"Epoch: {epoch+1}/{epochs}...\",\n",
        "          f\"Train Loss : {np.mean(train_losses):.6f}...\",\n",
        "          f\"Val Loss: {np.mean(val_losses):.6f}...\")\n",
        "\n",
        "    # Save model if validation loss has decreased\n",
        "    if np.mean(val_losses) <= valid_loss_min:\n",
        "        torch.save(net.state_dict(), 'state_dict.pt')\n",
        "        valid_loss_min = np.mean(val_losses)\n"
      ]
    },
    {
      "cell_type": "markdown",
      "source": [
        "We train the BiLSTM model over multiple epochs, performing forward and backward passes, applying gradient clipping to prevent exploding gradients, and tracking both training and validation losses. The model with the lowest validation loss is saved for future evaluation.\n",
        "\n"
      ],
      "metadata": {
        "id": "IrJ9B4VnChth"
      }
    },
    {
      "cell_type": "markdown",
      "source": [
        "# BaseLine model Evaluation metrics"
      ],
      "metadata": {
        "id": "l29IWwFlEX-C"
      }
    },
    {
      "cell_type": "code",
      "source": [
        "from sklearn.metrics import confusion_matrix, ConfusionMatrixDisplay, classification_report\n",
        "import matplotlib.pyplot as plt\n",
        "\n",
        "# 1. Get validation set predictions\n",
        "baseline_model.eval()\n",
        "val_preds = []\n",
        "\n",
        "with torch.no_grad():\n",
        "    for inputs, labels in valid_loader:\n",
        "        inputs = inputs.to(device)\n",
        "        inputs = inputs.float()\n",
        "\n",
        "        outputs = baseline_model(inputs)\n",
        "        preds = torch.argmax(outputs, dim=1)\n",
        "        val_preds.extend(preds.cpu().numpy())\n",
        "\n",
        "# y_val is your true labels (already created when splitting)\n",
        "y_true = y_val  # numpy array of true validation labels\n",
        "\n",
        "# 2. Create Confusion Matrix\n",
        "cm = confusion_matrix(y_true, val_preds)\n",
        "disp = ConfusionMatrixDisplay(confusion_matrix=cm)\n",
        "\n",
        "# 3. Plot Confusion Matrix\n",
        "plt.figure(figsize=(8,6))\n",
        "disp.plot(cmap=plt.cm.Blues, values_format='d')\n",
        "plt.title('Baseline Model(Logistic regression) - Confusion Matrix on Validation Set')\n",
        "plt.show()\n"
      ],
      "metadata": {
        "id": "zAVRh8cpbXLM",
        "colab": {
          "base_uri": "https://localhost:8080/",
          "height": 489
        },
        "outputId": "a88b4bf9-faa1-4843-a00e-9c41b007dfde"
      },
      "execution_count": 19,
      "outputs": [
        {
          "output_type": "display_data",
          "data": {
            "text/plain": [
              "<Figure size 800x600 with 0 Axes>"
            ]
          },
          "metadata": {}
        },
        {
          "output_type": "display_data",
          "data": {
            "text/plain": [
              "<Figure size 640x480 with 2 Axes>"
            ],
            "image/png": "[encoded data removed]"
          },
          "metadata": {}
        }
      ]
    },
    {
      "cell_type": "markdown",
      "source": [
        "We evaluate the baseline model by generating predictions on the validation set and then plot a confusion matrix to visualize the model’s classification performance, showing the counts of true positives, true negatives, false positives, and false negatives.\n",
        "\n"
      ],
      "metadata": {
        "id": "Grs5wch_CvNt"
      }
    },
    {
      "cell_type": "code",
      "source": [
        "#  4. Classification Report\n",
        "print(\"Classification Report of Logistic Regression:\")\n",
        "print(classification_report(y_true, val_preds, digits=4))\n"
      ],
      "metadata": {
        "id": "gvcg5uyE8uAa",
        "colab": {
          "base_uri": "https://localhost:8080/"
        },
        "outputId": "54d07a6d-5671-4ed4-c6c9-d7c23b6ecef1"
      },
      "execution_count": 20,
      "outputs": [
        {
          "output_type": "stream",
          "name": "stdout",
          "text": [
            "Classification Report of Logistic Regression:\n",
            "              precision    recall  f1-score   support\n",
            "\n",
            "           0     0.5821    0.8087    0.6770       894\n",
            "           1     0.3915    0.1749    0.2418       629\n",
            "\n",
            "    accuracy                         0.5469      1523\n",
            "   macro avg     0.4868    0.4918    0.4594      1523\n",
            "weighted avg     0.5034    0.5469    0.4972      1523\n",
            "\n"
          ]
        }
      ]
    },
    {
      "cell_type": "markdown",
      "source": [
        "# BiLSTM Model Evaluation metrics"
      ],
      "metadata": {
        "id": "ADzHTj89EkY1"
      }
    },
    {
      "cell_type": "code",
      "execution_count": 21,
      "metadata": {
        "colab": {
          "base_uri": "https://localhost:8080/"
        },
        "id": "SIUpAxKHvZ91",
        "outputId": "f0cab261-7047-4c25-d60e-598173da034a"
      },
      "outputs": [
        {
          "output_type": "stream",
          "name": "stdout",
          "text": [
            "\n",
            "Evaluation Metrics on Validation Set for BiLSTM model:\n",
            "Accuracy: 0.8063\n",
            "Precision: 0.8287\n",
            "Recall (Sensitivity): 0.6693\n",
            "F1-Score: 0.7405\n",
            "Confusion Matrix:\n",
            "[[807  87]\n",
            " [208 421]]\n"
          ]
        }
      ],
      "source": [
        "# Load the best model\n",
        "net.load_state_dict(torch.load('state_dict.pt'))\n",
        "\n",
        "# Evaluate on validation set\n",
        "net.eval()\n",
        "y_preds = []\n",
        "y_true = []\n",
        "y_probs = []\n",
        "with torch.no_grad():\n",
        "    for inputs, labels in valid_loader:\n",
        "        # Move data to GPU if available\n",
        "        if train_on_gpu:\n",
        "            inputs, labels = inputs.cuda(), labels.cuda()\n",
        "        else:\n",
        "            inputs, labels = inputs, labels\n",
        "\n",
        "        # Initialize hidden state based on actual batch size\n",
        "        val_h = net.init_hidden(inputs.size(0), train_on_gpu)\n",
        "        val_h = tuple([each.data for each in val_h])\n",
        "\n",
        "        outputs, val_h = net(inputs, val_h)\n",
        "\n",
        "        # Save predictions for evaluation metrics\n",
        "        probs = outputs.squeeze().detach().cpu().numpy()\n",
        "        preds = torch.round(outputs.squeeze())\n",
        "        y_probs.extend(probs)\n",
        "        y_preds.extend(preds.detach().cpu().numpy())\n",
        "        y_true.extend(labels.detach().cpu().numpy())\n",
        "\n",
        "# Calculate evaluation metrics on validation set\n",
        "accuracy = accuracy_score(y_true, y_preds)\n",
        "precision = precision_score(y_true, y_preds)\n",
        "recall = recall_score(y_true, y_preds)\n",
        "f1 = f1_score(y_true, y_preds)\n",
        "confusion = confusion_matrix(y_true, y_preds)\n",
        "\n",
        "print(\"\\nEvaluation Metrics on Validation Set for BiLSTM model:\")\n",
        "print(f\"Accuracy: {accuracy:.4f}\")\n",
        "print(f\"Precision: {precision:.4f}\")\n",
        "print(f\"Recall (Sensitivity): {recall:.4f}\")\n",
        "print(f\"F1-Score: {f1:.4f}\")\n",
        "print(\"Confusion Matrix:\")\n",
        "print(confusion)\n"
      ]
    },
    {
      "cell_type": "markdown",
      "source": [
        "We load the best saved BiLSTM model and evaluate it on the validation set by generating predictions. We compute key evaluation metrics including accuracy, precision, recall, F1-score, and display the confusion matrix to analyze the model’s classification performance in detail.\n",
        "\n"
      ],
      "metadata": {
        "id": "F_bUlmbAC5-A"
      }
    },
    {
      "cell_type": "code",
      "execution_count": 22,
      "metadata": {
        "colab": {
          "base_uri": "https://localhost:8080/",
          "height": 564
        },
        "id": "80Z1bv9Uvdar",
        "outputId": "33c58e93-95db-460d-c2a4-cdc862572bdd"
      },
      "outputs": [
        {
          "output_type": "display_data",
          "data": {
            "text/plain": [
              "<Figure size 800x600 with 2 Axes>"
            ],
            "image/png": "[encoded data removed]"
          },
          "metadata": {}
        }
      ],
      "source": [
        "# Confusion Matrix Heatmap\n",
        "plt.figure(figsize=(8,6))\n",
        "sns.heatmap(confusion, annot=True, fmt='d', cmap='Blues',\n",
        "            xticklabels=['Not Disaster', 'Disaster'],\n",
        "            yticklabels=['Not Disaster', 'Disaster'])\n",
        "plt.xlabel('Predicted Label')\n",
        "plt.ylabel('True Label')\n",
        "plt.title('Confusion Matrix Heatmap')\n",
        "plt.show()\n"
      ]
    },
    {
      "cell_type": "markdown",
      "source": [
        "We plot a heatmap of the confusion matrix to visually represent the model’s prediction performance, clearly showing the number of correctly and incorrectly classified disaster and non-disaster tweets using color intensity.\n",
        "\n"
      ],
      "metadata": {
        "id": "m0FOhTCZDD21"
      }
    },
    {
      "cell_type": "markdown",
      "source": [
        "# Visualizations\n"
      ],
      "metadata": {
        "id": "4mgQkuH-Er-l"
      }
    },
    {
      "cell_type": "code",
      "execution_count": 23,
      "metadata": {
        "colab": {
          "base_uri": "https://localhost:8080/",
          "height": 564
        },
        "id": "C9VBj90jvd-8",
        "outputId": "07021194-a7f6-456b-8ddf-52cfb75b137d"
      },
      "outputs": [
        {
          "output_type": "display_data",
          "data": {
            "text/plain": [
              "<Figure size 800x600 with 1 Axes>"
            ],
            "image/png": "[encoded data removed]"
          },
          "metadata": {}
        }
      ],
      "source": [
        "# ROC Curve of BiLSTM model\n",
        "fpr, tpr, thresholds = roc_curve(y_true, y_probs)\n",
        "roc_auc = roc_auc_score(y_true, y_probs)\n",
        "\n",
        "plt.figure(figsize=(8,6))\n",
        "plt.plot(fpr, tpr, label=f'AUC = {roc_auc:.4f}', color='darkorange', lw=2)\n",
        "plt.plot([0,1], [0,1], color='navy', lw=2, linestyle='--')\n",
        "plt.xlim([0.0,1.0])\n",
        "plt.ylim([0.0,1.05])\n",
        "plt.xlabel('False Positive Rate')\n",
        "plt.ylabel('True Positive Rate (Recall)')\n",
        "plt.title('Receiver Operating Characteristic (ROC) Curve')\n",
        "plt.legend(loc='lower right')\n",
        "plt.show()\n"
      ]
    },
    {
      "cell_type": "markdown",
      "source": [
        "We plot the ROC curve for the BiLSTM model to evaluate its ability to distinguish between disaster and non-disaster tweets. The Area Under the Curve (AUC) value summarizes the model’s overall classification performance across different threshold settings.\n",
        "\n"
      ],
      "metadata": {
        "id": "4X5SxtQsDH6G"
      }
    },
    {
      "cell_type": "code",
      "execution_count": 24,
      "metadata": {
        "colab": {
          "base_uri": "https://localhost:8080/",
          "height": 564
        },
        "id": "j-ZZx-s6vfpg",
        "outputId": "0d4e3d6a-d2e8-4528-c173-c9aea36e27dc"
      },
      "outputs": [
        {
          "output_type": "display_data",
          "data": {
            "text/plain": [
              "<Figure size 800x600 with 1 Axes>"
            ],
            "image/png": "[encoded data removed]"
          },
          "metadata": {}
        }
      ],
      "source": [
        "# Precision-Recall Curve of BiLSTM model\n",
        "precision_vals, recall_vals, thresholds = precision_recall_curve(y_true, y_probs)\n",
        "avg_precision = average_precision_score(y_true, y_probs)\n",
        "\n",
        "plt.figure(figsize=(8,6))\n",
        "plt.plot(recall_vals, precision_vals, label=f'Average Precision = {avg_precision:.4f}', color='blue', lw=2)\n",
        "plt.xlabel('Recall')\n",
        "plt.ylabel('Precision')\n",
        "plt.title('Precision-Recall Curve')\n",
        "plt.legend(loc='lower left')\n",
        "plt.show()\n"
      ]
    },
    {
      "cell_type": "markdown",
      "source": [
        "We plot the Precision-Recall curve for the BiLSTM model to assess its performance, especially on imbalanced datasets. The average precision score summarizes the trade-off between precision and recall across different classification thresholds.\n",
        "\n"
      ],
      "metadata": {
        "id": "pmq9qf9wDN-l"
      }
    },
    {
      "cell_type": "code",
      "execution_count": 25,
      "metadata": {
        "colab": {
          "base_uri": "https://localhost:8080/",
          "height": 564
        },
        "id": "pw4qzatvvhmn",
        "outputId": "d73680c7-dcaf-45f4-c6fa-752beec3251f"
      },
      "outputs": [
        {
          "output_type": "display_data",
          "data": {
            "text/plain": [
              "<Figure size 800x600 with 1 Axes>"
            ],
            "image/png": "[encoded data removed]"
          },
          "metadata": {}
        }
      ],
      "source": [
        "# Training and Validation Loss Curves of BiLSTM model\n",
        "plt.figure(figsize=(8,6))\n",
        "plt.plot(range(1, epochs+1), train_losses_epoch, label='Training Loss')\n",
        "plt.plot(range(1, epochs+1), val_losses_epoch, label='Validation Loss')\n",
        "plt.xlabel('Epochs')\n",
        "plt.ylabel('Loss')\n",
        "plt.title('Training and Validation Loss Over Epochs')\n",
        "plt.legend()\n",
        "plt.show()\n"
      ]
    },
    {
      "cell_type": "markdown",
      "source": [
        "We plot the training and validation loss curves over epochs to monitor the learning process of the BiLSTM model. These curves help identify signs of overfitting or underfitting and ensure that the model is learning effectively during training.\n",
        "\n"
      ],
      "metadata": {
        "id": "O6DJmyo7DnI6"
      }
    },
    {
      "cell_type": "code",
      "execution_count": 26,
      "metadata": {
        "id": "5K1WocMvvjIg"
      },
      "outputs": [],
      "source": [
        "# Create DataLoader for test set\n",
        "test_data = TensorDataset(torch.from_numpy(test_padded))\n",
        "test_loader = DataLoader(test_data, batch_size=batch_size, shuffle=False)\n",
        "\n",
        "# Initialize hidden state\n",
        "net.eval()\n",
        "test_preds = []\n",
        "with torch.no_grad():\n",
        "    for inputs in test_loader:\n",
        "        inputs = inputs[0]\n",
        "        if train_on_gpu:\n",
        "            inputs = inputs.cuda()\n",
        "        else:\n",
        "            inputs = inputs\n",
        "\n",
        "        h = net.init_hidden(inputs.size(0), train_on_gpu)\n",
        "        h = tuple([each.data for each in h])\n",
        "\n",
        "        outputs, h = net(inputs, h)\n",
        "\n",
        "        preds = torch.round(outputs.squeeze())\n",
        "        test_preds.extend(preds.detach().cpu().numpy())\n",
        "\n",
        "# Ensure the number of predictions matches test set size\n",
        "test_preds = test_preds[:len(test)]\n"
      ]
    },
    {
      "cell_type": "markdown",
      "source": [
        "We use the trained BiLSTM model to generate predictions on the unseen test dataset. The model outputs are thresholded to obtain binary class predictions (disaster or non-disaster) for each tweet in the test set.\n",
        "\n"
      ],
      "metadata": {
        "id": "jB06KVQCD120"
      }
    },
    {
      "cell_type": "code",
      "execution_count": 27,
      "metadata": {
        "id": "H_Wj5XlavlOj"
      },
      "outputs": [],
      "source": [
        "# Save weights_matrix to a file\n",
        "np.save('weights_matrix.npy', weights_matrix.numpy())\n"
      ]
    },
    {
      "cell_type": "code",
      "execution_count": 28,
      "metadata": {
        "colab": {
          "base_uri": "https://localhost:8080/"
        },
        "id": "u5w4yYeew5BN",
        "outputId": "61df9d2a-fcdb-451e-ea88-411602f0916a"
      },
      "outputs": [
        {
          "output_type": "stream",
          "name": "stdout",
          "text": [
            "Requirement already satisfied: streamlit in /usr/local/lib/python3.11/dist-packages (1.44.1)\n",
            "Requirement already satisfied: pyngrok in /usr/local/lib/python3.11/dist-packages (7.2.5)\n",
            "Requirement already satisfied: altair<6,>=4.0 in /usr/local/lib/python3.11/dist-packages (from streamlit) (5.5.0)\n",
            "Requirement already satisfied: blinker<2,>=1.0.0 in /usr/local/lib/python3.11/dist-packages (from streamlit) (1.9.0)\n",
            "Requirement already satisfied: cachetools<6,>=4.0 in /usr/local/lib/python3.11/dist-packages (from streamlit) (5.5.2)\n",
            "Requirement already satisfied: click<9,>=7.0 in /usr/local/lib/python3.11/dist-packages (from streamlit) (8.1.8)\n",
            "Requirement already satisfied: numpy<3,>=1.23 in /usr/local/lib/python3.11/dist-packages (from streamlit) (2.0.2)\n",
            "Requirement already satisfied: packaging<25,>=20 in /usr/local/lib/python3.11/dist-packages (from streamlit) (24.2)\n",
            "Requirement already satisfied: pandas<3,>=1.4.0 in /usr/local/lib/python3.11/dist-packages (from streamlit) (2.2.2)\n",
            "Requirement already satisfied: pillow<12,>=7.1.0 in /usr/local/lib/python3.11/dist-packages (from streamlit) (11.1.0)\n",
            "Requirement already satisfied: protobuf<6,>=3.20 in /usr/local/lib/python3.11/dist-packages (from streamlit) (5.29.4)\n",
            "Requirement already satisfied: pyarrow>=7.0 in /usr/local/lib/python3.11/dist-packages (from streamlit) (18.1.0)\n",
            "Requirement already satisfied: requests<3,>=2.27 in /usr/local/lib/python3.11/dist-packages (from streamlit) (2.32.3)\n",
            "Requirement already satisfied: tenacity<10,>=8.1.0 in /usr/local/lib/python3.11/dist-packages (from streamlit) (9.1.2)\n",
            "Requirement already satisfied: toml<2,>=0.10.1 in /usr/local/lib/python3.11/dist-packages (from streamlit) (0.10.2)\n",
            "Requirement already satisfied: typing-extensions<5,>=4.4.0 in /usr/local/lib/python3.11/dist-packages (from streamlit) (4.13.2)\n",
            "Requirement already satisfied: watchdog<7,>=2.1.5 in /usr/local/lib/python3.11/dist-packages (from streamlit) (6.0.0)\n",
            "Requirement already satisfied: gitpython!=3.1.19,<4,>=3.0.7 in /usr/local/lib/python3.11/dist-packages (from streamlit) (3.1.44)\n",
            "Requirement already satisfied: pydeck<1,>=0.8.0b4 in /usr/local/lib/python3.11/dist-packages (from streamlit) (0.9.1)\n",
            "Requirement already satisfied: tornado<7,>=6.0.3 in /usr/local/lib/python3.11/dist-packages (from streamlit) (6.4.2)\n",
            "Requirement already satisfied: PyYAML>=5.1 in /usr/local/lib/python3.11/dist-packages (from pyngrok) (6.0.2)\n",
            "Requirement already satisfied: jinja2 in /usr/local/lib/python3.11/dist-packages (from altair<6,>=4.0->streamlit) (3.1.6)\n",
            "Requirement already satisfied: jsonschema>=3.0 in /usr/local/lib/python3.11/dist-packages (from altair<6,>=4.0->streamlit) (4.23.0)\n",
            "Requirement already satisfied: narwhals>=1.14.2 in /usr/local/lib/python3.11/dist-packages (from altair<6,>=4.0->streamlit) (1.35.0)\n",
            "Requirement already satisfied: gitdb<5,>=4.0.1 in /usr/local/lib/python3.11/dist-packages (from gitpython!=3.1.19,<4,>=3.0.7->streamlit) (4.0.12)\n",
            "Requirement already satisfied: python-dateutil>=2.8.2 in /usr/local/lib/python3.11/dist-packages (from pandas<3,>=1.4.0->streamlit) (2.8.2)\n",
            "Requirement already satisfied: pytz>=2020.1 in /usr/local/lib/python3.11/dist-packages (from pandas<3,>=1.4.0->streamlit) (2025.2)\n",
            "Requirement already satisfied: tzdata>=2022.7 in /usr/local/lib/python3.11/dist-packages (from pandas<3,>=1.4.0->streamlit) (2025.2)\n",
            "Requirement already satisfied: charset-normalizer<4,>=2 in /usr/local/lib/python3.11/dist-packages (from requests<3,>=2.27->streamlit) (3.4.1)\n",
            "Requirement already satisfied: idna<4,>=2.5 in /usr/local/lib/python3.11/dist-packages (from requests<3,>=2.27->streamlit) (3.10)\n",
            "Requirement already satisfied: urllib3<3,>=1.21.1 in /usr/local/lib/python3.11/dist-packages (from requests<3,>=2.27->streamlit) (2.3.0)\n",
            "Requirement already satisfied: certifi>=2017.4.17 in /usr/local/lib/python3.11/dist-packages (from requests<3,>=2.27->streamlit) (2025.1.31)\n",
            "Requirement already satisfied: smmap<6,>=3.0.1 in /usr/local/lib/python3.11/dist-packages (from gitdb<5,>=4.0.1->gitpython!=3.1.19,<4,>=3.0.7->streamlit) (5.0.2)\n",
            "Requirement already satisfied: MarkupSafe>=2.0 in /usr/local/lib/python3.11/dist-packages (from jinja2->altair<6,>=4.0->streamlit) (3.0.2)\n",
            "Requirement already satisfied: attrs>=22.2.0 in /usr/local/lib/python3.11/dist-packages (from jsonschema>=3.0->altair<6,>=4.0->streamlit) (25.3.0)\n",
            "Requirement already satisfied: jsonschema-specifications>=2023.03.6 in /usr/local/lib/python3.11/dist-packages (from jsonschema>=3.0->altair<6,>=4.0->streamlit) (2024.10.1)\n",
            "Requirement already satisfied: referencing>=0.28.4 in /usr/local/lib/python3.11/dist-packages (from jsonschema>=3.0->altair<6,>=4.0->streamlit) (0.36.2)\n",
            "Requirement already satisfied: rpds-py>=0.7.1 in /usr/local/lib/python3.11/dist-packages (from jsonschema>=3.0->altair<6,>=4.0->streamlit) (0.24.0)\n",
            "Requirement already satisfied: six>=1.5 in /usr/local/lib/python3.11/dist-packages (from python-dateutil>=2.8.2->pandas<3,>=1.4.0->streamlit) (1.17.0)\n"
          ]
        }
      ],
      "source": [
        "pip install streamlit pyngrok\n"
      ]
    },
    {
      "cell_type": "code",
      "execution_count": 29,
      "metadata": {
        "id": "QJdqmEL7wxt0",
        "colab": {
          "base_uri": "https://localhost:8080/"
        },
        "outputId": "2055adf4-31a5-4ed0-c9ee-1cf0130ae6ae"
      },
      "outputs": [
        {
          "output_type": "stream",
          "name": "stdout",
          "text": []
        }
      ],
      "source": [
        "# Install necessary packages\n",
        "\n",
        "# Authenticate ngrok\n",
        "from pyngrok import ngrok\n",
        "ngrok.set_auth_token('2mdzC5PhaSZt0Kh7DcRfqbT4pfK_366JmJjiSDP9qLC8ZrTSH')  # Replace with your actual token\n"
      ]
    },
    {
      "cell_type": "markdown",
      "source": [
        "We install the necessary packages and authenticate ngrok using a personal token. This allows us to create a secure public URL to deploy and share our Streamlit app hosted locally.\n",
        "\n",
        "\n"
      ],
      "metadata": {
        "id": "Q8_2-YELEBTA"
      }
    },
    {
      "cell_type": "markdown",
      "source": [
        "# Streamlit App"
      ],
      "metadata": {
        "id": "HmBCDjiEE1nv"
      }
    },
    {
      "cell_type": "code",
      "execution_count": 32,
      "metadata": {
        "colab": {
          "base_uri": "https://localhost:8080/"
        },
        "id": "MGXqn-cQw_MS",
        "outputId": "5de2613f-9a32-46b6-c806-d3f4f43db981"
      },
      "outputs": [
        {
          "output_type": "stream",
          "name": "stdout",
          "text": [
            "Access your app at: NgrokTunnel: \"https://7dcf-34-142-202-202.ngrok-free.app\" -> \"http://localhost:8501\"\n"
          ]
        }
      ],
      "source": [
        "# Run the Streamlit app\n",
        "import subprocess\n",
        "import threading\n",
        "\n",
        "def run_app():\n",
        "    subprocess.call(['streamlit', 'run', 'app.py', '--server.port', '8501', '--server.headless', 'true'])\n",
        "\n",
        "thread = threading.Thread(target=run_app)\n",
        "thread.start()\n",
        "\n",
        "# Expose the app using ngrok\n",
        "public_url = ngrok.connect(8501)\n",
        "print(f'Access your app at: {public_url}')\n"
      ]
    },
    {
      "cell_type": "markdown",
      "metadata": {
        "id": "GxL9QG15vMag"
      },
      "source": [
        "We run the Streamlit app in a separate thread and expose it to the internet using ngrok, creating a public URL. This allows users to easily access and interact with the deployed disaster tweet classification application.\n",
        "\n"
      ]
    },
    {
      "cell_type": "code",
      "source": [],
      "metadata": {
        "id": "syfbDSo8H1PS"
      },
      "execution_count": 30,
      "outputs": []
    }
  ],
  "metadata": {
    "accelerator": "GPU",
    "colab": {
      "gpuType": "T4",
      "provenance": [],
      "toc_visible": true
    },
    "kernelspec": {
      "display_name": "Python 3",
      "name": "python3"
    },
    "language_info": {
      "name": "python"
    }
  },
  "nbformat": 4,
  "nbformat_minor": 0
}